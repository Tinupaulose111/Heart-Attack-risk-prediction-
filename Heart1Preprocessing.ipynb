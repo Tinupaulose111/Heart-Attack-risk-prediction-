{
 "cells": [
  {
   "cell_type": "code",
   "execution_count": 1,
   "id": "49880a46-fdd1-4787-9b94-48027f6a3c56",
   "metadata": {},
   "outputs": [],
   "source": [
    "import numpy as np \n",
    "import pandas as pd\n",
    "import matplotlib.pyplot as plt\n",
    "%matplotlib inline\n",
    "import seaborn as sns\n",
    "import warnings\n",
    "warnings.filterwarnings(\"ignore\")"
   ]
  },
  {
   "cell_type": "code",
   "execution_count": 2,
   "id": "c9369cf8-e402-4b64-80dc-0ae904245460",
   "metadata": {},
   "outputs": [
    {
     "data": {
      "text/html": [
       "<div>\n",
       "<style scoped>\n",
       "    .dataframe tbody tr th:only-of-type {\n",
       "        vertical-align: middle;\n",
       "    }\n",
       "\n",
       "    .dataframe tbody tr th {\n",
       "        vertical-align: top;\n",
       "    }\n",
       "\n",
       "    .dataframe thead th {\n",
       "        text-align: right;\n",
       "    }\n",
       "</style>\n",
       "<table border=\"1\" class=\"dataframe\">\n",
       "  <thead>\n",
       "    <tr style=\"text-align: right;\">\n",
       "      <th></th>\n",
       "      <th>Gender</th>\n",
       "      <th>age</th>\n",
       "      <th>education</th>\n",
       "      <th>currentSmoker</th>\n",
       "      <th>cigsPerDay</th>\n",
       "      <th>BP Meds</th>\n",
       "      <th>prevalentStroke</th>\n",
       "      <th>prevalentHyp</th>\n",
       "      <th>diabetes</th>\n",
       "      <th>tot cholesterol</th>\n",
       "      <th>Systolic BP</th>\n",
       "      <th>Diastolic BP</th>\n",
       "      <th>BMI</th>\n",
       "      <th>heartRate</th>\n",
       "      <th>glucose</th>\n",
       "      <th>Heart-Att</th>\n",
       "    </tr>\n",
       "  </thead>\n",
       "  <tbody>\n",
       "    <tr>\n",
       "      <th>0</th>\n",
       "      <td>Male</td>\n",
       "      <td>39.0</td>\n",
       "      <td>4.0</td>\n",
       "      <td>0.0</td>\n",
       "      <td>0.0</td>\n",
       "      <td>0.0</td>\n",
       "      <td>0.0</td>\n",
       "      <td>0.0</td>\n",
       "      <td>0.0</td>\n",
       "      <td>195.0</td>\n",
       "      <td>106.0</td>\n",
       "      <td>70.0</td>\n",
       "      <td>26.97</td>\n",
       "      <td>80.0</td>\n",
       "      <td>77.0</td>\n",
       "      <td>0</td>\n",
       "    </tr>\n",
       "    <tr>\n",
       "      <th>1</th>\n",
       "      <td>Female</td>\n",
       "      <td>46.0</td>\n",
       "      <td>2.0</td>\n",
       "      <td>0.0</td>\n",
       "      <td>0.0</td>\n",
       "      <td>0.0</td>\n",
       "      <td>0.0</td>\n",
       "      <td>0.0</td>\n",
       "      <td>0.0</td>\n",
       "      <td>250.0</td>\n",
       "      <td>121.0</td>\n",
       "      <td>81.0</td>\n",
       "      <td>28.73</td>\n",
       "      <td>95.0</td>\n",
       "      <td>76.0</td>\n",
       "      <td>0</td>\n",
       "    </tr>\n",
       "    <tr>\n",
       "      <th>2</th>\n",
       "      <td>Male</td>\n",
       "      <td>48.0</td>\n",
       "      <td>1.0</td>\n",
       "      <td>1.0</td>\n",
       "      <td>20.0</td>\n",
       "      <td>0.0</td>\n",
       "      <td>0.0</td>\n",
       "      <td>0.0</td>\n",
       "      <td>0.0</td>\n",
       "      <td>245.0</td>\n",
       "      <td>127.5</td>\n",
       "      <td>80.0</td>\n",
       "      <td>25.34</td>\n",
       "      <td>75.0</td>\n",
       "      <td>70.0</td>\n",
       "      <td>0</td>\n",
       "    </tr>\n",
       "    <tr>\n",
       "      <th>3</th>\n",
       "      <td>Female</td>\n",
       "      <td>61.0</td>\n",
       "      <td>3.0</td>\n",
       "      <td>1.0</td>\n",
       "      <td>30.0</td>\n",
       "      <td>0.0</td>\n",
       "      <td>0.0</td>\n",
       "      <td>1.0</td>\n",
       "      <td>0.0</td>\n",
       "      <td>225.0</td>\n",
       "      <td>150.0</td>\n",
       "      <td>95.0</td>\n",
       "      <td>28.58</td>\n",
       "      <td>65.0</td>\n",
       "      <td>103.0</td>\n",
       "      <td>1</td>\n",
       "    </tr>\n",
       "    <tr>\n",
       "      <th>4</th>\n",
       "      <td>Female</td>\n",
       "      <td>46.0</td>\n",
       "      <td>3.0</td>\n",
       "      <td>1.0</td>\n",
       "      <td>23.0</td>\n",
       "      <td>0.0</td>\n",
       "      <td>0.0</td>\n",
       "      <td>0.0</td>\n",
       "      <td>0.0</td>\n",
       "      <td>285.0</td>\n",
       "      <td>130.0</td>\n",
       "      <td>84.0</td>\n",
       "      <td>23.10</td>\n",
       "      <td>85.0</td>\n",
       "      <td>85.0</td>\n",
       "      <td>0</td>\n",
       "    </tr>\n",
       "  </tbody>\n",
       "</table>\n",
       "</div>"
      ],
      "text/plain": [
       "   Gender   age  education  currentSmoker  cigsPerDay  BP Meds  \\\n",
       "0    Male  39.0        4.0            0.0         0.0      0.0   \n",
       "1  Female  46.0        2.0            0.0         0.0      0.0   \n",
       "2    Male  48.0        1.0            1.0        20.0      0.0   \n",
       "3  Female  61.0        3.0            1.0        30.0      0.0   \n",
       "4  Female  46.0        3.0            1.0        23.0      0.0   \n",
       "\n",
       "   prevalentStroke  prevalentHyp  diabetes  tot cholesterol  Systolic BP  \\\n",
       "0              0.0           0.0       0.0            195.0        106.0   \n",
       "1              0.0           0.0       0.0            250.0        121.0   \n",
       "2              0.0           0.0       0.0            245.0        127.5   \n",
       "3              0.0           1.0       0.0            225.0        150.0   \n",
       "4              0.0           0.0       0.0            285.0        130.0   \n",
       "\n",
       "   Diastolic BP    BMI  heartRate  glucose  Heart-Att  \n",
       "0          70.0  26.97       80.0     77.0          0  \n",
       "1          81.0  28.73       95.0     76.0          0  \n",
       "2          80.0  25.34       75.0     70.0          0  \n",
       "3          95.0  28.58       65.0    103.0          1  \n",
       "4          84.0  23.10       85.0     85.0          0  "
      ]
     },
     "execution_count": 2,
     "metadata": {},
     "output_type": "execute_result"
    }
   ],
   "source": [
    "df=pd.read_csv('US_Heart_Patients (2).csv')\n",
    "df.head()"
   ]
  },
  {
   "cell_type": "code",
   "execution_count": 3,
   "id": "94242fa1-3682-4b9e-82a2-2b9f4d757b7e",
   "metadata": {},
   "outputs": [
    {
     "name": "stdout",
     "output_type": "stream",
     "text": [
      "<class 'pandas.core.frame.DataFrame'>\n",
      "RangeIndex: 4240 entries, 0 to 4239\n",
      "Data columns (total 16 columns):\n",
      " #   Column           Non-Null Count  Dtype  \n",
      "---  ------           --------------  -----  \n",
      " 0   Gender           4232 non-null   object \n",
      " 1   age              4238 non-null   float64\n",
      " 2   education        4130 non-null   float64\n",
      " 3   currentSmoker    4237 non-null   float64\n",
      " 4   cigsPerDay       4209 non-null   float64\n",
      " 5   BP Meds          4180 non-null   float64\n",
      " 6   prevalentStroke  4231 non-null   float64\n",
      " 7   prevalentHyp     4238 non-null   float64\n",
      " 8   diabetes         4238 non-null   float64\n",
      " 9   tot cholesterol  4180 non-null   float64\n",
      " 10  Systolic BP      4236 non-null   float64\n",
      " 11  Diastolic BP     4235 non-null   float64\n",
      " 12  BMI              4216 non-null   float64\n",
      " 13  heartRate        4236 non-null   float64\n",
      " 14  glucose          3849 non-null   float64\n",
      " 15  Heart-Att        4240 non-null   int64  \n",
      "dtypes: float64(14), int64(1), object(1)\n",
      "memory usage: 530.1+ KB\n"
     ]
    }
   ],
   "source": [
    "df.info()"
   ]
  },
  {
   "cell_type": "code",
   "execution_count": 4,
   "id": "a7390f42-dc2c-4ee6-8040-3c37b17fee2c",
   "metadata": {},
   "outputs": [
    {
     "data": {
      "text/plain": [
       "Gender               8\n",
       "age                  2\n",
       "education          110\n",
       "currentSmoker        3\n",
       "cigsPerDay          31\n",
       "BP Meds             60\n",
       "prevalentStroke      9\n",
       "prevalentHyp         2\n",
       "diabetes             2\n",
       "tot cholesterol     60\n",
       "Systolic BP          4\n",
       "Diastolic BP         5\n",
       "BMI                 24\n",
       "heartRate            4\n",
       "glucose            391\n",
       "Heart-Att            0\n",
       "dtype: int64"
      ]
     },
     "execution_count": 4,
     "metadata": {},
     "output_type": "execute_result"
    }
   ],
   "source": [
    "df.isnull().sum()"
   ]
  },
  {
   "cell_type": "code",
   "execution_count": 5,
   "id": "93153f59-2dd0-443f-8f7a-4acdcf4f455b",
   "metadata": {},
   "outputs": [
    {
     "data": {
      "text/html": [
       "<div>\n",
       "<style scoped>\n",
       "    .dataframe tbody tr th:only-of-type {\n",
       "        vertical-align: middle;\n",
       "    }\n",
       "\n",
       "    .dataframe tbody tr th {\n",
       "        vertical-align: top;\n",
       "    }\n",
       "\n",
       "    .dataframe thead th {\n",
       "        text-align: right;\n",
       "    }\n",
       "</style>\n",
       "<table border=\"1\" class=\"dataframe\">\n",
       "  <thead>\n",
       "    <tr style=\"text-align: right;\">\n",
       "      <th></th>\n",
       "      <th>age</th>\n",
       "      <th>education</th>\n",
       "      <th>currentSmoker</th>\n",
       "      <th>cigsPerDay</th>\n",
       "      <th>BP Meds</th>\n",
       "      <th>prevalentStroke</th>\n",
       "      <th>prevalentHyp</th>\n",
       "      <th>diabetes</th>\n",
       "      <th>tot cholesterol</th>\n",
       "      <th>Systolic BP</th>\n",
       "      <th>Diastolic BP</th>\n",
       "      <th>BMI</th>\n",
       "      <th>heartRate</th>\n",
       "      <th>glucose</th>\n",
       "      <th>Heart-Att</th>\n",
       "    </tr>\n",
       "  </thead>\n",
       "  <tbody>\n",
       "    <tr>\n",
       "      <th>count</th>\n",
       "      <td>4238.000000</td>\n",
       "      <td>4130.000000</td>\n",
       "      <td>4237.000000</td>\n",
       "      <td>4209.000000</td>\n",
       "      <td>4180.000000</td>\n",
       "      <td>4231.000000</td>\n",
       "      <td>4238.000000</td>\n",
       "      <td>4238.000000</td>\n",
       "      <td>4180.000000</td>\n",
       "      <td>4236.000000</td>\n",
       "      <td>4235.000000</td>\n",
       "      <td>4216.000000</td>\n",
       "      <td>4236.000000</td>\n",
       "      <td>3849.000000</td>\n",
       "      <td>4240.000000</td>\n",
       "    </tr>\n",
       "    <tr>\n",
       "      <th>mean</th>\n",
       "      <td>49.579283</td>\n",
       "      <td>1.979903</td>\n",
       "      <td>0.494218</td>\n",
       "      <td>9.001901</td>\n",
       "      <td>0.029665</td>\n",
       "      <td>0.005909</td>\n",
       "      <td>0.310524</td>\n",
       "      <td>0.025720</td>\n",
       "      <td>236.677273</td>\n",
       "      <td>132.362370</td>\n",
       "      <td>82.901889</td>\n",
       "      <td>25.798916</td>\n",
       "      <td>75.867800</td>\n",
       "      <td>81.951936</td>\n",
       "      <td>0.151887</td>\n",
       "    </tr>\n",
       "    <tr>\n",
       "      <th>std</th>\n",
       "      <td>8.572875</td>\n",
       "      <td>1.019943</td>\n",
       "      <td>0.500026</td>\n",
       "      <td>11.920742</td>\n",
       "      <td>0.169682</td>\n",
       "      <td>0.076650</td>\n",
       "      <td>0.462763</td>\n",
       "      <td>0.158316</td>\n",
       "      <td>44.616098</td>\n",
       "      <td>22.039244</td>\n",
       "      <td>11.914467</td>\n",
       "      <td>4.075256</td>\n",
       "      <td>11.999488</td>\n",
       "      <td>23.958428</td>\n",
       "      <td>0.358953</td>\n",
       "    </tr>\n",
       "    <tr>\n",
       "      <th>min</th>\n",
       "      <td>32.000000</td>\n",
       "      <td>1.000000</td>\n",
       "      <td>0.000000</td>\n",
       "      <td>0.000000</td>\n",
       "      <td>0.000000</td>\n",
       "      <td>0.000000</td>\n",
       "      <td>0.000000</td>\n",
       "      <td>0.000000</td>\n",
       "      <td>107.000000</td>\n",
       "      <td>83.500000</td>\n",
       "      <td>48.000000</td>\n",
       "      <td>15.540000</td>\n",
       "      <td>44.000000</td>\n",
       "      <td>40.000000</td>\n",
       "      <td>0.000000</td>\n",
       "    </tr>\n",
       "    <tr>\n",
       "      <th>25%</th>\n",
       "      <td>42.000000</td>\n",
       "      <td>1.000000</td>\n",
       "      <td>0.000000</td>\n",
       "      <td>0.000000</td>\n",
       "      <td>0.000000</td>\n",
       "      <td>0.000000</td>\n",
       "      <td>0.000000</td>\n",
       "      <td>0.000000</td>\n",
       "      <td>206.000000</td>\n",
       "      <td>117.000000</td>\n",
       "      <td>75.000000</td>\n",
       "      <td>23.070000</td>\n",
       "      <td>68.000000</td>\n",
       "      <td>71.000000</td>\n",
       "      <td>0.000000</td>\n",
       "    </tr>\n",
       "    <tr>\n",
       "      <th>50%</th>\n",
       "      <td>49.000000</td>\n",
       "      <td>2.000000</td>\n",
       "      <td>0.000000</td>\n",
       "      <td>0.000000</td>\n",
       "      <td>0.000000</td>\n",
       "      <td>0.000000</td>\n",
       "      <td>0.000000</td>\n",
       "      <td>0.000000</td>\n",
       "      <td>234.000000</td>\n",
       "      <td>128.000000</td>\n",
       "      <td>82.000000</td>\n",
       "      <td>25.395000</td>\n",
       "      <td>75.000000</td>\n",
       "      <td>78.000000</td>\n",
       "      <td>0.000000</td>\n",
       "    </tr>\n",
       "    <tr>\n",
       "      <th>75%</th>\n",
       "      <td>56.000000</td>\n",
       "      <td>3.000000</td>\n",
       "      <td>1.000000</td>\n",
       "      <td>20.000000</td>\n",
       "      <td>0.000000</td>\n",
       "      <td>0.000000</td>\n",
       "      <td>1.000000</td>\n",
       "      <td>0.000000</td>\n",
       "      <td>263.000000</td>\n",
       "      <td>144.000000</td>\n",
       "      <td>90.000000</td>\n",
       "      <td>28.040000</td>\n",
       "      <td>83.000000</td>\n",
       "      <td>87.000000</td>\n",
       "      <td>0.000000</td>\n",
       "    </tr>\n",
       "    <tr>\n",
       "      <th>max</th>\n",
       "      <td>70.000000</td>\n",
       "      <td>4.000000</td>\n",
       "      <td>1.000000</td>\n",
       "      <td>70.000000</td>\n",
       "      <td>1.000000</td>\n",
       "      <td>1.000000</td>\n",
       "      <td>1.000000</td>\n",
       "      <td>1.000000</td>\n",
       "      <td>696.000000</td>\n",
       "      <td>295.000000</td>\n",
       "      <td>142.500000</td>\n",
       "      <td>56.800000</td>\n",
       "      <td>143.000000</td>\n",
       "      <td>394.000000</td>\n",
       "      <td>1.000000</td>\n",
       "    </tr>\n",
       "  </tbody>\n",
       "</table>\n",
       "</div>"
      ],
      "text/plain": [
       "               age    education  currentSmoker   cigsPerDay      BP Meds  \\\n",
       "count  4238.000000  4130.000000    4237.000000  4209.000000  4180.000000   \n",
       "mean     49.579283     1.979903       0.494218     9.001901     0.029665   \n",
       "std       8.572875     1.019943       0.500026    11.920742     0.169682   \n",
       "min      32.000000     1.000000       0.000000     0.000000     0.000000   \n",
       "25%      42.000000     1.000000       0.000000     0.000000     0.000000   \n",
       "50%      49.000000     2.000000       0.000000     0.000000     0.000000   \n",
       "75%      56.000000     3.000000       1.000000    20.000000     0.000000   \n",
       "max      70.000000     4.000000       1.000000    70.000000     1.000000   \n",
       "\n",
       "       prevalentStroke  prevalentHyp     diabetes  tot cholesterol  \\\n",
       "count      4231.000000   4238.000000  4238.000000      4180.000000   \n",
       "mean          0.005909      0.310524     0.025720       236.677273   \n",
       "std           0.076650      0.462763     0.158316        44.616098   \n",
       "min           0.000000      0.000000     0.000000       107.000000   \n",
       "25%           0.000000      0.000000     0.000000       206.000000   \n",
       "50%           0.000000      0.000000     0.000000       234.000000   \n",
       "75%           0.000000      1.000000     0.000000       263.000000   \n",
       "max           1.000000      1.000000     1.000000       696.000000   \n",
       "\n",
       "       Systolic BP  Diastolic BP          BMI    heartRate      glucose  \\\n",
       "count  4236.000000   4235.000000  4216.000000  4236.000000  3849.000000   \n",
       "mean    132.362370     82.901889    25.798916    75.867800    81.951936   \n",
       "std      22.039244     11.914467     4.075256    11.999488    23.958428   \n",
       "min      83.500000     48.000000    15.540000    44.000000    40.000000   \n",
       "25%     117.000000     75.000000    23.070000    68.000000    71.000000   \n",
       "50%     128.000000     82.000000    25.395000    75.000000    78.000000   \n",
       "75%     144.000000     90.000000    28.040000    83.000000    87.000000   \n",
       "max     295.000000    142.500000    56.800000   143.000000   394.000000   \n",
       "\n",
       "         Heart-Att  \n",
       "count  4240.000000  \n",
       "mean      0.151887  \n",
       "std       0.358953  \n",
       "min       0.000000  \n",
       "25%       0.000000  \n",
       "50%       0.000000  \n",
       "75%       0.000000  \n",
       "max       1.000000  "
      ]
     },
     "execution_count": 5,
     "metadata": {},
     "output_type": "execute_result"
    }
   ],
   "source": [
    "df.describe()"
   ]
  },
  {
   "cell_type": "code",
   "execution_count": 6,
   "id": "21aed910-ad27-4143-933b-2400c0c7d7d8",
   "metadata": {},
   "outputs": [
    {
     "data": {
      "text/plain": [
       "np.float64(78.0)"
      ]
     },
     "execution_count": 6,
     "metadata": {},
     "output_type": "execute_result"
    }
   ],
   "source": [
    "df['glucose'].median()"
   ]
  },
  {
   "cell_type": "code",
   "execution_count": 8,
   "id": "cc481f1b-893e-4edf-a318-b62e0f7fb91d",
   "metadata": {},
   "outputs": [],
   "source": [
    "condition = (df['glucose'].isnull()) & (df['diabetes'] == 1)"
   ]
  },
  {
   "cell_type": "code",
   "execution_count": 11,
   "id": "563d2a1a-2c77-4a2d-95b6-15b13f86cc29",
   "metadata": {},
   "outputs": [
    {
     "data": {
      "text/plain": [
       "False    4236\n",
       "True        4\n",
       "Name: count, dtype: int64"
      ]
     },
     "execution_count": 11,
     "metadata": {},
     "output_type": "execute_result"
    }
   ],
   "source": [
    "condition.value_counts()"
   ]
  },
  {
   "cell_type": "code",
   "execution_count": 22,
   "id": "380bd757-04ef-47d5-9ff8-061124728788",
   "metadata": {},
   "outputs": [],
   "source": [
    "condition = (df['glucose'].isnull()) & (df['Heart-Att'] == 1)\n"
   ]
  },
  {
   "cell_type": "code",
   "execution_count": 23,
   "id": "3e3ddb6a-318c-4481-b62c-2bb793d866e4",
   "metadata": {},
   "outputs": [
    {
     "data": {
      "text/plain": [
       "False    4188\n",
       "True       52\n",
       "Name: count, dtype: int64"
      ]
     },
     "execution_count": 23,
     "metadata": {},
     "output_type": "execute_result"
    }
   ],
   "source": [
    "condition.value_counts()"
   ]
  },
  {
   "cell_type": "code",
   "execution_count": 25,
   "id": "4930e30f-1ab6-40b1-adc9-5665c60c15f7",
   "metadata": {},
   "outputs": [],
   "source": [
    "glc_condition1 = (df['glucose'].isnull()) & (df['Heart-Att'] == 1)\n",
    "\n",
    "df.loc[glc_condition1, 'glucose'] = 126\n"
   ]
  },
  {
   "cell_type": "code",
   "execution_count": 27,
   "id": "9caef3b8-6dea-43c2-ba71-0501fc4c8652",
   "metadata": {},
   "outputs": [],
   "source": [
    "glc_condition2 = (df['glucose'].isnull()) & (df['diabetes'] == 1)\n",
    "\n",
    "df.loc[glc_condition2, 'glucose'] = 126"
   ]
  },
  {
   "cell_type": "code",
   "execution_count": 94,
   "id": "deeb7767-d0bd-4fd8-b4fc-bebf2969df3c",
   "metadata": {},
   "outputs": [
    {
     "data": {
      "text/plain": [
       "Gender               8\n",
       "age                  2\n",
       "education          110\n",
       "currentSmoker        3\n",
       "cigsPerDay          31\n",
       "BP Meds              0\n",
       "prevalentStroke      9\n",
       "prevalentHyp         2\n",
       "diabetes             2\n",
       "tot cholesterol     60\n",
       "Systolic BP          4\n",
       "Diastolic BP         5\n",
       "BMI                 24\n",
       "heartRate            4\n",
       "glucose              0\n",
       "Heart-Att            0\n",
       "dtype: int64"
      ]
     },
     "execution_count": 94,
     "metadata": {},
     "output_type": "execute_result"
    }
   ],
   "source": [
    "df.isnull().sum()"
   ]
  },
  {
   "cell_type": "code",
   "execution_count": 33,
   "id": "74f63d9b-7435-4a99-b95d-96fa0a741888",
   "metadata": {},
   "outputs": [],
   "source": [
    "df['glucose']=df['glucose'].fillna(df['glucose'].median())"
   ]
  },
  {
   "cell_type": "code",
   "execution_count": 35,
   "id": "4bc263fe-29b5-4300-a1b5-91bbe99cf739",
   "metadata": {},
   "outputs": [],
   "source": [
    "condition = (df['BP Meds'].isnull()) & (df['Heart-Att'] == 1)"
   ]
  },
  {
   "cell_type": "code",
   "execution_count": 36,
   "id": "58754417-3691-4891-899d-74efe5251625",
   "metadata": {},
   "outputs": [
    {
     "data": {
      "text/plain": [
       "False    4227\n",
       "True       13\n",
       "Name: count, dtype: int64"
      ]
     },
     "execution_count": 36,
     "metadata": {},
     "output_type": "execute_result"
    }
   ],
   "source": [
    "condition.value_counts()"
   ]
  },
  {
   "cell_type": "code",
   "execution_count": 37,
   "id": "a44b9edc-ec39-4ded-8bf1-3f3453875135",
   "metadata": {},
   "outputs": [
    {
     "data": {
      "text/plain": [
       "BP Meds\n",
       "0.0    4056\n",
       "1.0     124\n",
       "Name: count, dtype: int64"
      ]
     },
     "execution_count": 37,
     "metadata": {},
     "output_type": "execute_result"
    }
   ],
   "source": [
    "df['BP Meds'].value_counts()"
   ]
  },
  {
   "cell_type": "code",
   "execution_count": 48,
   "id": "5f3012bb-ff12-4131-8660-e7e80b492445",
   "metadata": {},
   "outputs": [],
   "source": [
    "condition = (df['BP Meds'].isnull()) & (df['prevalentHyp'] == 1)&(df['Systolic BP']>130)"
   ]
  },
  {
   "cell_type": "code",
   "execution_count": 49,
   "id": "5d09a374-1b99-4fb6-9d58-83b96333d41c",
   "metadata": {},
   "outputs": [
    {
     "data": {
      "text/plain": [
       "False    4223\n",
       "True       17\n",
       "Name: count, dtype: int64"
      ]
     },
     "execution_count": 49,
     "metadata": {},
     "output_type": "execute_result"
    }
   ],
   "source": [
    "condition.value_counts()"
   ]
  },
  {
   "cell_type": "code",
   "execution_count": 47,
   "id": "102fa888-752d-4af1-b8e6-d1f5ccb67d7a",
   "metadata": {},
   "outputs": [],
   "source": [
    "bp_condition1 = (df['BP Meds'].isnull()) & (df['Heart-Att'] == 1)\n",
    "\n",
    "df.loc[bp_condition1, 'BP Meds'] = 1"
   ]
  },
  {
   "cell_type": "code",
   "execution_count": 50,
   "id": "973cce21-f2bb-44ab-a567-56ee2b03e48e",
   "metadata": {},
   "outputs": [],
   "source": [
    "bp_condition1 = (df['BP Meds'].isnull()) & (df['prevalentHyp'] == 1)&(df['Systolic BP']>130)\n",
    "\n",
    "df.loc[bp_condition1, 'BP Meds'] = 1"
   ]
  },
  {
   "cell_type": "code",
   "execution_count": 57,
   "id": "ee4eda5e-d716-42dd-8f4a-3e3fb426e910",
   "metadata": {},
   "outputs": [],
   "source": [
    "df['BP Meds']=df['BP Meds'].fillna(df['BP Meds'].mode()[0])"
   ]
  },
  {
   "cell_type": "code",
   "execution_count": 70,
   "id": "3b475541-7095-4ad6-ae63-d46f8b485f6c",
   "metadata": {},
   "outputs": [
    {
     "data": {
      "text/html": [
       "<div>\n",
       "<style scoped>\n",
       "    .dataframe tbody tr th:only-of-type {\n",
       "        vertical-align: middle;\n",
       "    }\n",
       "\n",
       "    .dataframe tbody tr th {\n",
       "        vertical-align: top;\n",
       "    }\n",
       "\n",
       "    .dataframe thead th {\n",
       "        text-align: right;\n",
       "    }\n",
       "</style>\n",
       "<table border=\"1\" class=\"dataframe\">\n",
       "  <thead>\n",
       "    <tr style=\"text-align: right;\">\n",
       "      <th>Heart-Att</th>\n",
       "      <th>0</th>\n",
       "      <th>1</th>\n",
       "    </tr>\n",
       "    <tr>\n",
       "      <th>tot cholesterol</th>\n",
       "      <th></th>\n",
       "      <th></th>\n",
       "    </tr>\n",
       "  </thead>\n",
       "  <tbody>\n",
       "    <tr>\n",
       "      <th>False</th>\n",
       "      <td>0.862632</td>\n",
       "      <td>0.137368</td>\n",
       "    </tr>\n",
       "    <tr>\n",
       "      <th>True</th>\n",
       "      <td>0.807520</td>\n",
       "      <td>0.192480</td>\n",
       "    </tr>\n",
       "  </tbody>\n",
       "</table>\n",
       "</div>"
      ],
      "text/plain": [
       "Heart-Att               0         1\n",
       "tot cholesterol                    \n",
       "False            0.862632  0.137368\n",
       "True             0.807520  0.192480"
      ]
     },
     "execution_count": 70,
     "metadata": {},
     "output_type": "execute_result"
    }
   ],
   "source": [
    "pd.crosstab(df['tot cholesterol']>260, df['Heart-Att'], normalize='index')\n"
   ]
  },
  {
   "cell_type": "code",
   "execution_count": 68,
   "id": "5df128f9-659b-44db-8b16-7fad154d910a",
   "metadata": {},
   "outputs": [
    {
     "data": {
      "text/plain": [
       "np.int64(1066)"
      ]
     },
     "execution_count": 68,
     "metadata": {},
     "output_type": "execute_result"
    }
   ],
   "source": [
    "df[df['tot cholesterol']>260].value_counts().sum()"
   ]
  },
  {
   "cell_type": "code",
   "execution_count": 71,
   "id": "08b98672-ba38-422c-91b9-11b30e6d5d52",
   "metadata": {},
   "outputs": [],
   "source": [
    "condition = (df['tot cholesterol'].isnull()) & (df['Heart-Att'] == 1)"
   ]
  },
  {
   "cell_type": "code",
   "execution_count": 72,
   "id": "6468b1b3-d7db-45de-bca1-75bf7866dec7",
   "metadata": {},
   "outputs": [
    {
     "data": {
      "text/plain": [
       "False    4229\n",
       "True       11\n",
       "Name: count, dtype: int64"
      ]
     },
     "execution_count": 72,
     "metadata": {},
     "output_type": "execute_result"
    }
   ],
   "source": [
    "condition.value_counts()"
   ]
  },
  {
   "cell_type": "code",
   "execution_count": 80,
   "id": "4c9a32f1-1a71-44f1-8bd5-4b501a72cb2a",
   "metadata": {},
   "outputs": [
    {
     "data": {
      "image/png": "[encoded data removed]",
      "text/plain": [
       "<Figure size 640x480 with 1 Axes>"
      ]
     },
     "metadata": {},
     "output_type": "display_data"
    },
    {
     "data": {
      "image/png": "[encoded data removed]",
      "text/plain": [
       "<Figure size 640x480 with 1 Axes>"
      ]
     },
     "metadata": {},
     "output_type": "display_data"
    }
   ],
   "source": [
    "sns.scatterplot(x='age', y='tot cholesterol', data=df)\n",
    "plt.title('Cholesterol vs Age')\n",
    "plt.show()\n",
    "\n",
    "sns.scatterplot(x='BMI', y='tot cholesterol', data=df)\n",
    "plt.title('Cholesterol vs BMI')\n",
    "plt.show()\n"
   ]
  },
  {
   "cell_type": "code",
   "execution_count": 81,
   "id": "2f41a0d0-d069-496c-bb40-89c7b4a36bd4",
   "metadata": {},
   "outputs": [
    {
     "data": {
      "text/plain": [
       "Heart-Att\n",
       "0    3596\n",
       "1     644\n",
       "Name: count, dtype: int64"
      ]
     },
     "execution_count": 81,
     "metadata": {},
     "output_type": "execute_result"
    }
   ],
   "source": [
    "df['Heart-Att'].value_counts()"
   ]
  },
  {
   "cell_type": "code",
   "execution_count": 105,
   "id": "5df5ed1f-d368-45d0-9332-7850133f2164",
   "metadata": {},
   "outputs": [],
   "source": [
    "condition = (df['tot cholesterol'].isnull()) & (df['age']>55)"
   ]
  },
  {
   "cell_type": "code",
   "execution_count": 126,
   "id": "382b0b6f-e80d-4e2f-be8f-252eddf99d59",
   "metadata": {},
   "outputs": [
    {
     "data": {
      "text/plain": [
       "False    4240\n",
       "Name: count, dtype: int64"
      ]
     },
     "execution_count": 126,
     "metadata": {},
     "output_type": "execute_result"
    }
   ],
   "source": [
    "condition.value_counts()"
   ]
  },
  {
   "cell_type": "code",
   "execution_count": 125,
   "id": "6df4bf14-5e93-4ffc-a3cb-ed2abd71343e",
   "metadata": {},
   "outputs": [],
   "source": [
    "condition = (df['tot cholesterol'].isnull()) & (df['BMI']>30)"
   ]
  },
  {
   "cell_type": "code",
   "execution_count": 96,
   "id": "5b221290-7423-4d11-abaf-014b8b6cd09a",
   "metadata": {},
   "outputs": [],
   "source": [
    "ch_condition1 = (df['tot cholesterol'].isnull()) & (df['Heart-Att'] == 1)\n",
    "\n",
    "df.loc[ch_condition1, 'tot cholesterol'] = 260"
   ]
  },
  {
   "cell_type": "code",
   "execution_count": null,
   "id": "4ca85bb5-3fba-493a-893f-0808a2fa016b",
   "metadata": {},
   "outputs": [],
   "source": [
    "ch_condition1 = (df['tot cholesterol'].isnull()) &(df['age']>60)\n",
    "\n",
    "df.loc[bp_condition1, 'tot cholesterol'] = 1"
   ]
  },
  {
   "cell_type": "code",
   "execution_count": 164,
   "id": "520d75ed-7c60-4005-b248-f078e4b9f7cc",
   "metadata": {},
   "outputs": [
    {
     "data": {
      "text/plain": [
       "Gender               8\n",
       "age                  2\n",
       "education          110\n",
       "currentSmoker        3\n",
       "cigsPerDay           0\n",
       "BP Meds              0\n",
       "prevalentStroke      9\n",
       "prevalentHyp         2\n",
       "diabetes             2\n",
       "tot cholesterol      0\n",
       "Systolic BP          4\n",
       "Diastolic BP         5\n",
       "BMI                  0\n",
       "heartRate            4\n",
       "glucose              0\n",
       "Heart-Att            0\n",
       "dtype: int64"
      ]
     },
     "execution_count": 164,
     "metadata": {},
     "output_type": "execute_result"
    }
   ],
   "source": [
    "df.isnull().sum()"
   ]
  },
  {
   "cell_type": "code",
   "execution_count": 101,
   "id": "8fca260e-7db9-46af-8445-e74e7913ec82",
   "metadata": {},
   "outputs": [],
   "source": [
    "chage=df.groupby('age')['tot cholesterol'].mean().reset_index()"
   ]
  },
  {
   "cell_type": "code",
   "execution_count": 104,
   "id": "cad00897-78ad-424a-b182-f756025e8693",
   "metadata": {},
   "outputs": [
    {
     "data": {
      "image/png": "[encoded data removed]",
      "text/plain": [
       "<Figure size 640x480 with 1 Axes>"
      ]
     },
     "metadata": {},
     "output_type": "display_data"
    }
   ],
   "source": [
    "sns.scatterplot(x='age',y='tot cholesterol',data=chage)\n",
    "plt.grid(True)"
   ]
  },
  {
   "cell_type": "code",
   "execution_count": 107,
   "id": "61b09818-7577-4148-ad67-3011c55bdbd8",
   "metadata": {},
   "outputs": [],
   "source": [
    "ch_condition2 = (df['tot cholesterol'].isnull()) &(df['age']>55)\n",
    "\n",
    "df.loc[ch_condition2, 'tot cholesterol'] = 240"
   ]
  },
  {
   "cell_type": "code",
   "execution_count": 121,
   "id": "c5044e21-79c6-4335-9fda-2d409cb2fb1d",
   "metadata": {},
   "outputs": [],
   "source": [
    "chbmi=df[df['BMI']>30]"
   ]
  },
  {
   "cell_type": "code",
   "execution_count": 122,
   "id": "40fc17ea-5404-4d03-b45c-ac1f57ee294f",
   "metadata": {},
   "outputs": [
    {
     "data": {
      "image/png": "[encoded data removed]",
      "text/plain": [
       "<Figure size 640x480 with 1 Axes>"
      ]
     },
     "metadata": {},
     "output_type": "display_data"
    }
   ],
   "source": [
    "sns.scatterplot(x='BMI',y='tot cholesterol',data=chbmi)\n",
    "plt.grid(True)"
   ]
  },
  {
   "cell_type": "code",
   "execution_count": 123,
   "id": "ae2dd637-53fb-493c-9904-d840962faad5",
   "metadata": {},
   "outputs": [],
   "source": [
    "ch_condition3 = (df['tot cholesterol'].isnull()) &(df['BMI']>30)\n",
    "\n",
    "df.loc[ch_condition3, 'tot cholesterol'] =250"
   ]
  },
  {
   "cell_type": "code",
   "execution_count": 131,
   "id": "1c2de3d2-1355-455b-953d-b75d72afdb32",
   "metadata": {},
   "outputs": [],
   "source": [
    "df['tot cholesterol']=df['tot cholesterol'].fillna(df['tot cholesterol'].median())"
   ]
  },
  {
   "cell_type": "code",
   "execution_count": 134,
   "id": "28e8a9e6-11a9-417a-825d-1d0f07265aa3",
   "metadata": {},
   "outputs": [
    {
     "data": {
      "text/html": [
       "<div>\n",
       "<style scoped>\n",
       "    .dataframe tbody tr th:only-of-type {\n",
       "        vertical-align: middle;\n",
       "    }\n",
       "\n",
       "    .dataframe tbody tr th {\n",
       "        vertical-align: top;\n",
       "    }\n",
       "\n",
       "    .dataframe thead th {\n",
       "        text-align: right;\n",
       "    }\n",
       "</style>\n",
       "<table border=\"1\" class=\"dataframe\">\n",
       "  <thead>\n",
       "    <tr style=\"text-align: right;\">\n",
       "      <th>Heart-Att</th>\n",
       "      <th>0</th>\n",
       "      <th>1</th>\n",
       "    </tr>\n",
       "    <tr>\n",
       "      <th>BMI</th>\n",
       "      <th></th>\n",
       "      <th></th>\n",
       "    </tr>\n",
       "  </thead>\n",
       "  <tbody>\n",
       "    <tr>\n",
       "      <th>False</th>\n",
       "      <td>0.853711</td>\n",
       "      <td>0.146289</td>\n",
       "    </tr>\n",
       "    <tr>\n",
       "      <th>True</th>\n",
       "      <td>0.809346</td>\n",
       "      <td>0.190654</td>\n",
       "    </tr>\n",
       "  </tbody>\n",
       "</table>\n",
       "</div>"
      ],
      "text/plain": [
       "Heart-Att         0         1\n",
       "BMI                          \n",
       "False      0.853711  0.146289\n",
       "True       0.809346  0.190654"
      ]
     },
     "execution_count": 134,
     "metadata": {},
     "output_type": "execute_result"
    }
   ],
   "source": [
    "pd.crosstab(df['BMI']>30, df['Heart-Att'], normalize='index')"
   ]
  },
  {
   "cell_type": "code",
   "execution_count": 137,
   "id": "4c078281-b46e-4a8b-9873-7558ff1e8cb4",
   "metadata": {},
   "outputs": [],
   "source": [
    "condition = (df['BMI'].isnull()) & (df['Heart-Att']==1)"
   ]
  },
  {
   "cell_type": "code",
   "execution_count": 142,
   "id": "eea6fca4-3a05-49d4-aeb4-9a276bb0606f",
   "metadata": {},
   "outputs": [],
   "source": [
    "bmi_condition1 = (df['BMI'].isnull()) &(df['Heart-Att']==1)\n",
    "\n",
    "df.loc[bmi_condition1, 'BMI'] = 30"
   ]
  },
  {
   "cell_type": "code",
   "execution_count": 144,
   "id": "476f7258-5bec-4dcc-835a-3b2299b0225e",
   "metadata": {},
   "outputs": [
    {
     "data": {
      "text/plain": [
       "False    4235\n",
       "True        5\n",
       "Name: count, dtype: int64"
      ]
     },
     "execution_count": 144,
     "metadata": {},
     "output_type": "execute_result"
    }
   ],
   "source": [
    "condition.value_counts()"
   ]
  },
  {
   "cell_type": "code",
   "execution_count": 140,
   "id": "50c78692-9883-4c64-89e6-a6c7932d479c",
   "metadata": {},
   "outputs": [],
   "source": [
    "condition = (df['BMI'].isnull()) & (df['tot cholesterol']>250)"
   ]
  },
  {
   "cell_type": "code",
   "execution_count": 145,
   "id": "c824fde5-59f4-48ce-807d-7e89a9bb7186",
   "metadata": {},
   "outputs": [],
   "source": [
    "bmi_condition2 = (df['BMI'].isnull()) & (df['tot cholesterol']>250)\n",
    "\n",
    "df.loc[bmi_condition2, 'BMI'] = 30"
   ]
  },
  {
   "cell_type": "code",
   "execution_count": 147,
   "id": "b00956f7-7e28-419a-946a-720b460bd0f8",
   "metadata": {},
   "outputs": [],
   "source": [
    "df['BMI']=df['BMI'].fillna(df['BMI'].median())"
   ]
  },
  {
   "cell_type": "code",
   "execution_count": 151,
   "id": "908c64c7-4f54-42e8-a1db-503bb95f5cdf",
   "metadata": {},
   "outputs": [],
   "source": [
    "condition = (df['cigsPerDay'].isnull()) & (df['currentSmoker']==1)"
   ]
  },
  {
   "cell_type": "code",
   "execution_count": 152,
   "id": "db3ffbf1-b2cc-473c-8e6a-356b05c693a0",
   "metadata": {},
   "outputs": [
    {
     "data": {
      "text/plain": [
       "False    4209\n",
       "True       31\n",
       "Name: count, dtype: int64"
      ]
     },
     "execution_count": 152,
     "metadata": {},
     "output_type": "execute_result"
    }
   ],
   "source": [
    "condition.value_counts()"
   ]
  },
  {
   "cell_type": "code",
   "execution_count": 161,
   "id": "cb4dd56d-8f82-4256-9050-61f3c1f82cf9",
   "metadata": {},
   "outputs": [
    {
     "data": {
      "text/plain": [
       "np.float64(20.0)"
      ]
     },
     "execution_count": 161,
     "metadata": {},
     "output_type": "execute_result"
    }
   ],
   "source": [
    "df[df['currentSmoker']==1]['cigsPerDay'].median()"
   ]
  },
  {
   "cell_type": "code",
   "execution_count": 162,
   "id": "5f0f69e6-9567-4ae1-ab04-bfc9acbdb4af",
   "metadata": {},
   "outputs": [
    {
     "data": {
      "text/plain": [
       "np.float64(18.356277266117306)"
      ]
     },
     "execution_count": 162,
     "metadata": {},
     "output_type": "execute_result"
    }
   ],
   "source": [
    "df[df['currentSmoker']==1]['cigsPerDay'].mean()"
   ]
  },
  {
   "cell_type": "code",
   "execution_count": 163,
   "id": "e670a391-c76e-4052-ba6c-88d9ed199394",
   "metadata": {},
   "outputs": [],
   "source": [
    "smok_condition1 = (df['cigsPerDay'].isnull()) & (df['currentSmoker']==1)\n",
    "\n",
    "df.loc[smok_condition1, 'cigsPerDay'] =20"
   ]
  },
  {
   "cell_type": "code",
   "execution_count": 194,
   "id": "7134b11a-716d-43f4-bab3-b9d09c2d99c7",
   "metadata": {},
   "outputs": [
    {
     "data": {
      "text/plain": [
       "Gender             0\n",
       "age                0\n",
       "education          0\n",
       "currentSmoker      3\n",
       "cigsPerDay         0\n",
       "BP Meds            0\n",
       "prevalentStroke    5\n",
       "prevalentHyp       2\n",
       "diabetes           2\n",
       "tot cholesterol    0\n",
       "Systolic BP        4\n",
       "Diastolic BP       5\n",
       "BMI                0\n",
       "heartRate          4\n",
       "glucose            0\n",
       "Heart-Att          0\n",
       "dtype: int64"
      ]
     },
     "execution_count": 194,
     "metadata": {},
     "output_type": "execute_result"
    }
   ],
   "source": [
    "df.isnull().sum()\n"
   ]
  },
  {
   "cell_type": "code",
   "execution_count": 167,
   "id": "f599b22d-4384-40f0-a800-d804204b38be",
   "metadata": {},
   "outputs": [],
   "source": [
    "condition = (df['education'].isnull()) & (df['Heart-Att']==1)"
   ]
  },
  {
   "cell_type": "code",
   "execution_count": 168,
   "id": "36130b97-1373-442d-ad65-6d38fdbd8673",
   "metadata": {},
   "outputs": [
    {
     "data": {
      "text/plain": [
       "False    4223\n",
       "True       17\n",
       "Name: count, dtype: int64"
      ]
     },
     "execution_count": 168,
     "metadata": {},
     "output_type": "execute_result"
    }
   ],
   "source": [
    "condition.value_counts()"
   ]
  },
  {
   "cell_type": "code",
   "execution_count": 173,
   "id": "d974be3b-ff5e-48ba-af3a-a7226999201b",
   "metadata": {},
   "outputs": [
    {
     "data": {
      "text/plain": [
       "np.float64(2.0)"
      ]
     },
     "execution_count": 173,
     "metadata": {},
     "output_type": "execute_result"
    }
   ],
   "source": [
    "df['education'].median()"
   ]
  },
  {
   "cell_type": "code",
   "execution_count": 174,
   "id": "6c248580-e2f6-42ca-a50c-229eedc20c95",
   "metadata": {},
   "outputs": [],
   "source": [
    "edu_condition1 = (df['education'].isnull()) & (df['Heart-Att']==1)\n",
    "\n",
    "df.loc[edu_condition1, 'education'] =1"
   ]
  },
  {
   "cell_type": "code",
   "execution_count": 176,
   "id": "c6131b88-2f86-4e05-8175-bb32ccf59c47",
   "metadata": {},
   "outputs": [],
   "source": [
    "df['education']=df['education'].fillna(df['education'].median)"
   ]
  },
  {
   "cell_type": "code",
   "execution_count": 178,
   "id": "0090ecd9-fd3a-4567-abbf-215ea76d9089",
   "metadata": {},
   "outputs": [],
   "source": [
    "df['Gender']=df['Gender'].fillna(df['Gender'].mode()[0])"
   ]
  },
  {
   "cell_type": "code",
   "execution_count": 188,
   "id": "b19a71f9-b6d4-43b3-8565-1cc4cd91ca86",
   "metadata": {},
   "outputs": [],
   "source": [
    "df['age']=df['age'].fillna(df['age'].median)"
   ]
  },
  {
   "cell_type": "code",
   "execution_count": 190,
   "id": "f398e6a3-f995-488f-85a7-05378512b6f1",
   "metadata": {},
   "outputs": [],
   "source": [
    "condition = (df['prevalentStroke'].isnull()) & (df['Heart-Att']==1)\n"
   ]
  },
  {
   "cell_type": "code",
   "execution_count": 191,
   "id": "e2a8d17e-d07c-42f8-aeb1-d3a7735ca509",
   "metadata": {},
   "outputs": [
    {
     "data": {
      "text/plain": [
       "False    4236\n",
       "True        4\n",
       "Name: count, dtype: int64"
      ]
     },
     "execution_count": 191,
     "metadata": {},
     "output_type": "execute_result"
    }
   ],
   "source": [
    "condition.value_counts()"
   ]
  },
  {
   "cell_type": "code",
   "execution_count": 197,
   "id": "8ff999b3-9cc9-4e6e-8fef-1bde1718ec7b",
   "metadata": {},
   "outputs": [
    {
     "data": {
      "text/plain": [
       "0    0.0\n",
       "Name: prevalentHyp, dtype: float64"
      ]
     },
     "execution_count": 197,
     "metadata": {},
     "output_type": "execute_result"
    }
   ],
   "source": [
    "df['prevalentHyp'].mode()"
   ]
  },
  {
   "cell_type": "code",
   "execution_count": 193,
   "id": "24f040c2-4816-4bf9-910d-ee0b0b73e28e",
   "metadata": {},
   "outputs": [],
   "source": [
    "p_condition1 = (df['prevalentStroke'].isnull()) & (df['Heart-Att']==1)\n",
    "\n",
    "df.loc[p_condition1, 'prevalentStroke'] =1"
   ]
  },
  {
   "cell_type": "code",
   "execution_count": 195,
   "id": "d834d897-6b4a-4e77-a9f0-6ae74026f171",
   "metadata": {},
   "outputs": [
    {
     "data": {
      "text/plain": [
       "Gender             0\n",
       "age                0\n",
       "education          0\n",
       "currentSmoker      3\n",
       "cigsPerDay         0\n",
       "BP Meds            0\n",
       "prevalentStroke    5\n",
       "prevalentHyp       2\n",
       "diabetes           2\n",
       "tot cholesterol    0\n",
       "Systolic BP        4\n",
       "Diastolic BP       5\n",
       "BMI                0\n",
       "heartRate          4\n",
       "glucose            0\n",
       "Heart-Att          0\n",
       "dtype: int64"
      ]
     },
     "execution_count": 195,
     "metadata": {},
     "output_type": "execute_result"
    }
   ],
   "source": [
    "df.isnull().sum()"
   ]
  },
  {
   "cell_type": "code",
   "execution_count": 198,
   "id": "30a7ea70-71e1-4a65-a890-2e05815b04be",
   "metadata": {},
   "outputs": [],
   "source": [
    "for col in ['prevalentStroke','prevalentHyp']:\n",
    "    df[col]=df[col].fillna(df[col].mode()[0])"
   ]
  },
  {
   "cell_type": "code",
   "execution_count": 199,
   "id": "cf5072ec-bf48-4391-821f-b069c7103f9e",
   "metadata": {},
   "outputs": [],
   "source": [
    "for col in ['Systolic BP','Diastolic BP','heartRate']:\n",
    "    df[col]=df[col].fillna(df[col].median())"
   ]
  },
  {
   "cell_type": "code",
   "execution_count": 200,
   "id": "455773ef-1265-4eeb-a050-475389ebddcc",
   "metadata": {},
   "outputs": [],
   "source": [
    "df.drop('currentSmoker',axis=1,inplace=True)"
   ]
  },
  {
   "cell_type": "code",
   "execution_count": 204,
   "id": "96d5e2ed-07fb-4e73-8972-a8ea170369c5",
   "metadata": {},
   "outputs": [
    {
     "data": {
      "text/plain": [
       "Gender             0\n",
       "age                0\n",
       "education          0\n",
       "cigsPerDay         0\n",
       "BP Meds            0\n",
       "prevalentStroke    0\n",
       "prevalentHyp       0\n",
       "diabetes           0\n",
       "tot cholesterol    0\n",
       "Systolic BP        0\n",
       "Diastolic BP       0\n",
       "BMI                0\n",
       "heartRate          0\n",
       "glucose            0\n",
       "Heart-Att          0\n",
       "dtype: int64"
      ]
     },
     "execution_count": 204,
     "metadata": {},
     "output_type": "execute_result"
    }
   ],
   "source": [
    "df.isnull().sum()"
   ]
  },
  {
   "cell_type": "code",
   "execution_count": 203,
   "id": "9b997c0d-0665-40b3-9b9e-b79a0d8c7ae4",
   "metadata": {},
   "outputs": [],
   "source": [
    "df['diabetes']=df['diabetes'].fillna(df['diabetes'].mode()[0])"
   ]
  },
  {
   "cell_type": "code",
   "execution_count": 207,
   "id": "04d20288-cbb8-49cd-af49-3e9124fed898",
   "metadata": {},
   "outputs": [],
   "source": [
    "df.to_csv(\"C:/Users/tinup/machine Learning/Heart_att1.csv\", index=False)"
   ]
  },
  {
   "cell_type": "code",
   "execution_count": null,
   "id": "9e859e1f-361c-4023-a795-76f16948880b",
   "metadata": {},
   "outputs": [],
   "source": []
  }
 ],
 "metadata": {
  "kernelspec": {
   "display_name": "Python 3 (ipykernel)",
   "language": "python",
   "name": "python3"
  },
  "language_info": {
   "codemirror_mode": {
    "name": "ipython",
    "version": 3
   },
   "file_extension": ".py",
   "mimetype": "text/x-python",
   "name": "python",
   "nbconvert_exporter": "python",
   "pygments_lexer": "ipython3",
   "version": "3.13.2"
  }
 },
 "nbformat": 4,
 "nbformat_minor": 5
}
