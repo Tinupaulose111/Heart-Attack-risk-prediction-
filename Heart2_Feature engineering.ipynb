{
 "cells": [
  {
   "cell_type": "code",
   "execution_count": 1,
   "id": "7669da06-aa66-4cf2-8290-1627a2b6f44a",
   "metadata": {},
   "outputs": [],
   "source": [
    "import numpy as np \n",
    "import pandas as pd\n",
    "import matplotlib.pyplot as plt\n",
    "%matplotlib inline\n",
    "import seaborn as sns\n",
    "import warnings\n",
    "warnings.filterwarnings(\"ignore\")"
   ]
  },
  {
   "cell_type": "code",
   "execution_count": 4,
   "id": "4c191235-b3d3-42d3-8848-2d076b490a19",
   "metadata": {},
   "outputs": [],
   "source": [
    "df=pd.read_csv('machine Learning/Heart_1.csv')"
   ]
  },
  {
   "cell_type": "code",
   "execution_count": 5,
   "id": "20ea80e1-9378-40e5-a0a9-c32cf2a3a80a",
   "metadata": {},
   "outputs": [
    {
     "name": "stdout",
     "output_type": "stream",
     "text": [
      "<class 'pandas.core.frame.DataFrame'>\n",
      "RangeIndex: 4240 entries, 0 to 4239\n",
      "Data columns (total 15 columns):\n",
      " #   Column           Non-Null Count  Dtype  \n",
      "---  ------           --------------  -----  \n",
      " 0   Gender           4240 non-null   object \n",
      " 1   age              4240 non-null   object \n",
      " 2   education        4240 non-null   object \n",
      " 3   cigsPerDay       4240 non-null   float64\n",
      " 4   BP Meds          4240 non-null   float64\n",
      " 5   prevalentStroke  4240 non-null   float64\n",
      " 6   prevalentHyp     4240 non-null   float64\n",
      " 7   diabetes         4240 non-null   float64\n",
      " 8   tot cholesterol  4240 non-null   float64\n",
      " 9   Systolic BP      4240 non-null   float64\n",
      " 10  Diastolic BP     4240 non-null   float64\n",
      " 11  BMI              4240 non-null   float64\n",
      " 12  heartRate        4240 non-null   float64\n",
      " 13  glucose          4240 non-null   float64\n",
      " 14  Heart-Att        4240 non-null   int64  \n",
      "dtypes: float64(11), int64(1), object(3)\n",
      "memory usage: 497.0+ KB\n"
     ]
    }
   ],
   "source": [
    "df.info()"
   ]
  },
  {
   "cell_type": "code",
   "execution_count": 10,
   "id": "dbdff289-0231-4420-9af7-221fd9649c7d",
   "metadata": {},
   "outputs": [
    {
     "name": "stdout",
     "output_type": "stream",
     "text": [
      "[39. 46. 48. 61. 43. 63. 45. 52. 50. 41. 38. 42. 44. 47. 60. 35. 36. 59.\n",
      " 54. 37. 56. 53. 49. 65. 51. 62. 40. 67. 57. 66. nan 64. 55. 58. 34. 68.\n",
      " 33. 70. 32. 69.]\n"
     ]
    }
   ],
   "source": [
    "print(df['age'].unique())\n"
   ]
  },
  {
   "cell_type": "code",
   "execution_count": 8,
   "id": "32aad9c8-e79a-4b4d-b1fd-4d2472e0f765",
   "metadata": {},
   "outputs": [
    {
     "data": {
      "text/html": [
       "<div>\n",
       "<style scoped>\n",
       "    .dataframe tbody tr th:only-of-type {\n",
       "        vertical-align: middle;\n",
       "    }\n",
       "\n",
       "    .dataframe tbody tr th {\n",
       "        vertical-align: top;\n",
       "    }\n",
       "\n",
       "    .dataframe thead th {\n",
       "        text-align: right;\n",
       "    }\n",
       "</style>\n",
       "<table border=\"1\" class=\"dataframe\">\n",
       "  <thead>\n",
       "    <tr style=\"text-align: right;\">\n",
       "      <th></th>\n",
       "      <th>Gender</th>\n",
       "      <th>age</th>\n",
       "      <th>education</th>\n",
       "      <th>cigsPerDay</th>\n",
       "      <th>BP Meds</th>\n",
       "      <th>prevalentStroke</th>\n",
       "      <th>prevalentHyp</th>\n",
       "      <th>diabetes</th>\n",
       "      <th>tot cholesterol</th>\n",
       "      <th>Systolic BP</th>\n",
       "      <th>Diastolic BP</th>\n",
       "      <th>BMI</th>\n",
       "      <th>heartRate</th>\n",
       "      <th>glucose</th>\n",
       "      <th>Heart-Att</th>\n",
       "    </tr>\n",
       "  </thead>\n",
       "  <tbody>\n",
       "    <tr>\n",
       "      <th>101</th>\n",
       "      <td>Female</td>\n",
       "      <td>&lt;bound method Series.median of 0       39.0\\n1...</td>\n",
       "      <td>3.0</td>\n",
       "      <td>0.0</td>\n",
       "      <td>1.0</td>\n",
       "      <td>0.0</td>\n",
       "      <td>1.0</td>\n",
       "      <td>0.0</td>\n",
       "      <td>1.0</td>\n",
       "      <td>141.0</td>\n",
       "      <td>84.0</td>\n",
       "      <td>29.66</td>\n",
       "      <td>75.0</td>\n",
       "      <td>105.0</td>\n",
       "      <td>0</td>\n",
       "    </tr>\n",
       "    <tr>\n",
       "      <th>343</th>\n",
       "      <td>Male</td>\n",
       "      <td>&lt;bound method Series.median of 0       39.0\\n1...</td>\n",
       "      <td>4.0</td>\n",
       "      <td>25.0</td>\n",
       "      <td>0.0</td>\n",
       "      <td>0.0</td>\n",
       "      <td>0.0</td>\n",
       "      <td>0.0</td>\n",
       "      <td>245.0</td>\n",
       "      <td>126.0</td>\n",
       "      <td>88.5</td>\n",
       "      <td>23.16</td>\n",
       "      <td>92.0</td>\n",
       "      <td>126.0</td>\n",
       "      <td>1</td>\n",
       "    </tr>\n",
       "  </tbody>\n",
       "</table>\n",
       "</div>"
      ],
      "text/plain": [
       "     Gender                                                age education  \\\n",
       "101  Female  <bound method Series.median of 0       39.0\\n1...       3.0   \n",
       "343    Male  <bound method Series.median of 0       39.0\\n1...       4.0   \n",
       "\n",
       "     cigsPerDay  BP Meds  prevalentStroke  prevalentHyp  diabetes  \\\n",
       "101         0.0      1.0              0.0           1.0       0.0   \n",
       "343        25.0      0.0              0.0           0.0       0.0   \n",
       "\n",
       "     tot cholesterol  Systolic BP  Diastolic BP    BMI  heartRate  glucose  \\\n",
       "101              1.0        141.0          84.0  29.66       75.0    105.0   \n",
       "343            245.0        126.0          88.5  23.16       92.0    126.0   \n",
       "\n",
       "     Heart-Att  \n",
       "101          0  \n",
       "343          1  "
      ]
     },
     "execution_count": 8,
     "metadata": {},
     "output_type": "execute_result"
    }
   ],
   "source": [
    "# Show rows where age is not a proper number\n",
    "df[~df['age'].astype(str).str.replace('.', '', 1).str.isdigit()]\n"
   ]
  },
  {
   "cell_type": "code",
   "execution_count": 9,
   "id": "4578b17e-24c2-489b-8444-0da93d619a55",
   "metadata": {},
   "outputs": [],
   "source": [
    "df['age'] = pd.to_numeric(df['age'], errors='coerce')  # converts invalid to NaN\n"
   ]
  },
  {
   "cell_type": "code",
   "execution_count": 13,
   "id": "0a2e69e3-62f4-4247-8b80-afefcb018284",
   "metadata": {},
   "outputs": [
    {
     "data": {
      "text/plain": [
       "np.int64(2)"
      ]
     },
     "execution_count": 13,
     "metadata": {},
     "output_type": "execute_result"
    }
   ],
   "source": [
    "df['age'].isnull().sum()"
   ]
  },
  {
   "cell_type": "code",
   "execution_count": 14,
   "id": "8436cb3b-23bf-4ecc-b841-61dbd3b2ead8",
   "metadata": {},
   "outputs": [],
   "source": [
    "df['age'].fillna(df['age'].median(), inplace=True)\n"
   ]
  },
  {
   "cell_type": "code",
   "execution_count": 16,
   "id": "8dca7be5-1ab5-42ef-b901-fab59be41e46",
   "metadata": {},
   "outputs": [],
   "source": [
    "bins = [ 30, 40, 50, 60, 70]\n",
    "labels = ['30-40', '40-50', '50-60', '60-70']\n",
    "df['age_group'] = pd.cut(df['age'], bins=bins, labels=labels)"
   ]
  },
  {
   "cell_type": "code",
   "execution_count": 18,
   "id": "b6b9d3b7-a72c-4c10-94ee-6ad5098b8a5c",
   "metadata": {},
   "outputs": [
    {
     "name": "stdout",
     "output_type": "stream",
     "text": [
      "<class 'pandas.core.series.Series'>\n",
      "RangeIndex: 4240 entries, 0 to 4239\n",
      "Series name: age_group\n",
      "Non-Null Count  Dtype   \n",
      "--------------  -----   \n",
      "4240 non-null   category\n",
      "dtypes: category(1)\n",
      "memory usage: 4.5 KB\n"
     ]
    }
   ],
   "source": [
    "df['age_group'].info()"
   ]
  },
  {
   "cell_type": "code",
   "execution_count": 20,
   "id": "a1125bd7-943b-437f-af00-f0fc9019c7f7",
   "metadata": {},
   "outputs": [
    {
     "data": {
      "image/png": "[encoded data removed]",
      "text/plain": [
       "<Figure size 640x480 with 1 Axes>"
      ]
     },
     "metadata": {},
     "output_type": "display_data"
    }
   ],
   "source": [
    "risk_by_age = df.groupby('age_group')['Heart-Att'].mean().reset_index()\n",
    "colors = ['yellow', 'green', 'blue', 'red'] \n",
    "\n",
    "sns.barplot(x='age_group', y='Heart-Att',data=risk_by_age,orient='v',palette=colors)\n",
    "plt.ylabel(\"Heart Attack Rate\")\n",
    "plt.xlabel(\"Age Group\")\n",
    "plt.title(\"Heart Attack Risk by Age Group\")\n",
    "plt.show()"
   ]
  },
  {
   "cell_type": "code",
   "execution_count": 22,
   "id": "31311789-819b-4b73-84dc-7dc0569e1ec4",
   "metadata": {},
   "outputs": [],
   "source": [
    "df['high_risk_age_group'] = df['age'].apply(lambda x: 3 if x >= 60 else (2 if x >= 50 else (1 if x >= 40 else 0)))\n"
   ]
  },
  {
   "cell_type": "code",
   "execution_count": 23,
   "id": "650cbf8f-2d16-458b-8cef-9b3870e8a8f2",
   "metadata": {},
   "outputs": [
    {
     "data": {
      "text/plain": [
       "age_group\n",
       "40-50    1610\n",
       "50-60    1303\n",
       "30-40     748\n",
       "60-70     579\n",
       "Name: count, dtype: int64"
      ]
     },
     "execution_count": 23,
     "metadata": {},
     "output_type": "execute_result"
    }
   ],
   "source": [
    "df['age_group'].value_counts()"
   ]
  },
  {
   "cell_type": "code",
   "execution_count": 27,
   "id": "208a17c8-8f04-4f07-b138-f272bdcf29e5",
   "metadata": {},
   "outputs": [
    {
     "data": {
      "text/plain": [
       "high_risk_age_group\n",
       "1    1662\n",
       "2    1333\n",
       "3     689\n",
       "0     556\n",
       "Name: count, dtype: int64"
      ]
     },
     "execution_count": 27,
     "metadata": {},
     "output_type": "execute_result"
    }
   ],
   "source": [
    "df['high_risk_age_group'].value_counts()"
   ]
  },
  {
   "cell_type": "code",
   "execution_count": 28,
   "id": "0b782c74-a01c-44a5-a781-50c5ab73b6c2",
   "metadata": {},
   "outputs": [
    {
     "data": {
      "image/png": "[encoded data removed]",
      "text/plain": [
       "<Figure size 640x480 with 1 Axes>"
      ]
     },
     "metadata": {},
     "output_type": "display_data"
    }
   ],
   "source": [
    "risk_by_age = df.groupby('high_risk_age_group')['Heart-Att'].mean().reset_index()\n",
    "colors = ['yellow', 'green', 'red', 'brown'] \n",
    "\n",
    "sns.barplot(x='high_risk_age_group', y='Heart-Att',data=risk_by_age,orient='v',palette=colors)\n",
    "plt.ylabel(\"Heart Attack Rate\")\n",
    "plt.xlabel(\"Age Group\")\n",
    "plt.title(\"Heart Attack Risk by Age Group\")\n",
    "plt.show()"
   ]
  },
  {
   "cell_type": "code",
   "execution_count": 34,
   "id": "d27356c7-a265-42d9-9476-11e391f4d35c",
   "metadata": {},
   "outputs": [
    {
     "data": {
      "text/plain": [
       "np.int64(35)"
      ]
     },
     "execution_count": 34,
     "metadata": {},
     "output_type": "execute_result"
    }
   ],
   "source": [
    "df[df['BMI']<=18].value_counts().sum()"
   ]
  },
  {
   "cell_type": "code",
   "execution_count": 39,
   "id": "b792a8a7-cb4e-47c3-adc8-5b0ea609f74e",
   "metadata": {},
   "outputs": [
    {
     "data": {
      "text/plain": [
       "np.int64(340)"
      ]
     },
     "execution_count": 39,
     "metadata": {},
     "output_type": "execute_result"
    }
   ],
   "source": [
    "df[(df['BMI']>=26) & (df['Heart-Att'] == 1)].value_counts().sum()\n"
   ]
  },
  {
   "cell_type": "code",
   "execution_count": 40,
   "id": "124d6171-6dcd-42a1-955c-0c24bbcf02db",
   "metadata": {},
   "outputs": [],
   "source": [
    "df['bmi_risk'] = df['BMI'].apply(lambda x: 2 if (x >= 30 or x < 18) else (1 if x >= 26 else 0))\n"
   ]
  },
  {
   "cell_type": "code",
   "execution_count": 43,
   "id": "e772ebca-ee09-4684-a3a3-340e99326320",
   "metadata": {},
   "outputs": [
    {
     "data": {
      "image/png": "[encoded data removed]",
      "text/plain": [
       "<Figure size 640x480 with 1 Axes>"
      ]
     },
     "metadata": {},
     "output_type": "display_data"
    }
   ],
   "source": [
    "risk_by_bmi = df.groupby('bmi_risk')['Heart-Att'].mean().reset_index()\n",
    "colors = ['yellow', 'green', 'red', 'brown'] \n",
    "\n",
    "sns.barplot(x='bmi_risk', y='Heart-Att',data=risk_by_bmi,orient='v',palette=colors)\n",
    "plt.ylabel(\"Heart Attack Rate\")\n",
    "plt.xlabel(\"BMI risk\")\n",
    "plt.title(\"Heart Attack Risk by BMI\")\n",
    "plt.show()"
   ]
  },
  {
   "cell_type": "code",
   "execution_count": 44,
   "id": "5468fea7-ebb9-4c52-b52b-336184d532cd",
   "metadata": {},
   "outputs": [
    {
     "data": {
      "text/plain": [
       "bmi_risk\n",
       "0    2353\n",
       "1    1302\n",
       "2     585\n",
       "Name: count, dtype: int64"
      ]
     },
     "execution_count": 44,
     "metadata": {},
     "output_type": "execute_result"
    }
   ],
   "source": [
    "df['bmi_risk'].value_counts()"
   ]
  },
  {
   "cell_type": "code",
   "execution_count": 52,
   "id": "706c54fe-6e87-4e03-9e8d-fc8292c2470b",
   "metadata": {},
   "outputs": [
    {
     "data": {
      "text/plain": [
       "np.int64(219)"
      ]
     },
     "execution_count": 52,
     "metadata": {},
     "output_type": "execute_result"
    }
   ],
   "source": [
    "df[(df['cigsPerDay']>=20) & (df['Heart-Att'] == 1)].value_counts().sum()"
   ]
  },
  {
   "cell_type": "code",
   "execution_count": 53,
   "id": "6569c2c6-a008-4852-9c07-07626ff56915",
   "metadata": {},
   "outputs": [
    {
     "data": {
      "text/plain": [
       "np.int64(1224)"
      ]
     },
     "execution_count": 53,
     "metadata": {},
     "output_type": "execute_result"
    }
   ],
   "source": [
    "df[df['cigsPerDay']>=20].value_counts().sum()\n"
   ]
  },
  {
   "cell_type": "code",
   "execution_count": 75,
   "id": "adf63cdc-2747-4bf1-8c37-de0a113b00bb",
   "metadata": {},
   "outputs": [],
   "source": [
    "df['smoking_riskkk'] = df['cigsPerDay'].apply(lambda x: 2 if x >=20 else (1 if x >=10  else 0))\n"
   ]
  },
  {
   "cell_type": "code",
   "execution_count": 76,
   "id": "81a0eaa5-b9a0-4cad-957f-8ef3029602a1",
   "metadata": {},
   "outputs": [
    {
     "data": {
      "text/plain": [
       "smoking_riskkk\n",
       "0    2630\n",
       "2    1224\n",
       "1     386\n",
       "Name: count, dtype: int64"
      ]
     },
     "execution_count": 76,
     "metadata": {},
     "output_type": "execute_result"
    }
   ],
   "source": [
    "df['smoking_riskkk'].value_counts()"
   ]
  },
  {
   "cell_type": "code",
   "execution_count": 77,
   "id": "14077004-fd88-4338-b319-cdb4b277587d",
   "metadata": {},
   "outputs": [
    {
     "data": {
      "image/png": "[encoded data removed]",
      "text/plain": [
       "<Figure size 640x480 with 1 Axes>"
      ]
     },
     "metadata": {},
     "output_type": "display_data"
    }
   ],
   "source": [
    "risk_by_smok = df.groupby('smoking_riskkk')['Heart-Att'].mean().reset_index()\n",
    "colors = ['yellow', 'green', 'red', 'brown'] \n",
    "\n",
    "sns.barplot(x='smoking_riskkk', y='Heart-Att',data=risk_by_smok,orient='v',palette=colors)\n",
    "plt.ylabel(\"Heart Attack Rate\")\n",
    "plt.xlabel(\"Smoking risk\")\n",
    "plt.title(\"Heart Attack Risk by Smoking\")\n",
    "plt.show()"
   ]
  },
  {
   "cell_type": "code",
   "execution_count": 80,
   "id": "a3d30fa5-4396-4e88-9b6e-c8f2fef30f5b",
   "metadata": {},
   "outputs": [
    {
     "data": {
      "text/plain": [
       "np.int64(1899)"
      ]
     },
     "execution_count": 80,
     "metadata": {},
     "output_type": "execute_result"
    }
   ],
   "source": [
    "df[df['tot cholesterol']>=240].value_counts().sum()"
   ]
  },
  {
   "cell_type": "code",
   "execution_count": 81,
   "id": "42c1c119-1c89-4874-bbb5-4ac70c430102",
   "metadata": {},
   "outputs": [],
   "source": [
    "df['cholesterol_risk'] = df['tot cholesterol'].apply(lambda x: 2 if x >=260 else (1 if x >=240  else 0))"
   ]
  },
  {
   "cell_type": "code",
   "execution_count": 83,
   "id": "f3009353-010f-42db-a0d8-575ae4c09e9b",
   "metadata": {},
   "outputs": [
    {
     "data": {
      "image/png": "[encoded data removed]",
      "text/plain": [
       "<Figure size 640x480 with 1 Axes>"
      ]
     },
     "metadata": {},
     "output_type": "display_data"
    }
   ],
   "source": [
    "risk_by_ch = df.groupby('cholesterol_risk')['Heart-Att'].mean().reset_index()\n",
    "colors = ['yellow', 'green', 'red', 'brown'] \n",
    "\n",
    "sns.barplot(x='cholesterol_risk', y='Heart-Att',data=risk_by_ch,orient='v',palette=colors)\n",
    "plt.ylabel(\"Heart Attack Rate\")\n",
    "plt.xlabel(\"cholestrol Risk\")\n",
    "plt.title(\"Heart Attack Risk by Smoking\")\n",
    "plt.show()"
   ]
  },
  {
   "cell_type": "code",
   "execution_count": 84,
   "id": "9d9b4694-63b8-42f7-8e42-04527f9fe159",
   "metadata": {},
   "outputs": [
    {
     "data": {
      "text/plain": [
       "cholesterol_risk\n",
       "0    2341\n",
       "2    1185\n",
       "1     714\n",
       "Name: count, dtype: int64"
      ]
     },
     "execution_count": 84,
     "metadata": {},
     "output_type": "execute_result"
    }
   ],
   "source": [
    "df['cholesterol_risk'].value_counts()"
   ]
  },
  {
   "cell_type": "code",
   "execution_count": 85,
   "id": "59d4e470-50a4-46fc-a36e-728d4a1cfce6",
   "metadata": {},
   "outputs": [
    {
     "data": {
      "text/plain": [
       "Text(0, 0.5, 'Herat attack rate')"
      ]
     },
     "execution_count": 85,
     "metadata": {},
     "output_type": "execute_result"
    },
    {
     "data": {
      "image/png": "[encoded data removed]",
      "text/plain": [
       "<Figure size 640x480 with 1 Axes>"
      ]
     },
     "metadata": {},
     "output_type": "display_data"
    }
   ],
   "source": [
    "sns.barplot(x='Gender',y='Heart-Att',data=df)\n",
    "plt.xlabel('Gender')\n",
    "plt.ylabel(\"Herat attack rate\")"
   ]
  },
  {
   "cell_type": "code",
   "execution_count": 87,
   "id": "4d79b460-9700-45ff-bebb-b3c32bfacbfb",
   "metadata": {},
   "outputs": [
    {
     "data": {
      "text/plain": [
       "np.int64(746)"
      ]
     },
     "execution_count": 87,
     "metadata": {},
     "output_type": "execute_result"
    }
   ],
   "source": [
    "df[(df['Gender']=='Female')&(df['cholesterol_risk']==2)][['Gender','cholesterol_risk']].value_counts().sum()"
   ]
  },
  {
   "cell_type": "code",
   "execution_count": 90,
   "id": "14d5444e-bb0b-4294-8b8a-757a9cc0ad1c",
   "metadata": {},
   "outputs": [
    {
     "data": {
      "text/plain": [
       "np.int64(356)"
      ]
     },
     "execution_count": 90,
     "metadata": {},
     "output_type": "execute_result"
    }
   ],
   "source": [
    "df[(df['Gender'] == 'Female') & (df['bmi_risk'] == 2)][['Gender', 'bmi_risk']].value_counts().sum()\n"
   ]
  },
  {
   "cell_type": "code",
   "execution_count": 89,
   "id": "34173b54-07df-4a13-8210-602555127a8f",
   "metadata": {},
   "outputs": [
    {
     "data": {
      "text/plain": [
       "np.int64(413)"
      ]
     },
     "execution_count": 89,
     "metadata": {},
     "output_type": "execute_result"
    }
   ],
   "source": [
    "df[(df['Gender']=='Female')&(df['smoking_riskkk']==2)][['Gender','smoking_riskkk']].value_counts().sum()"
   ]
  },
  {
   "cell_type": "code",
   "execution_count": 91,
   "id": "45bb4986-7c01-4af2-b129-b90f1a1b091a",
   "metadata": {},
   "outputs": [],
   "source": [
    "df['gender_risk']=df.apply(lambda row:3 if row['Gender']=='Male' and (row['smoking_riskkk']==2 or\n",
    "                                                                     row['cholesterol_risk']==2 or\n",
    "                                                                     row['prevalentHyp']==1)or\n",
    "                                                                     row['bmi_risk']==2\n",
    " \n",
    "                           else 2 if row['Gender']=='Female' and (row['smoking_riskkk']==2 or\n",
    "                                                                     row['cholesterol_risk']==2 or\n",
    "                                                                     row['prevalentHyp']==1)or\n",
    "                                                                     row['bmi_risk']==2\n",
    "                           else 1 if row['Gender']=='Male'\n",
    "                           else 0,\n",
    "                           axis=1 )"
   ]
  },
  {
   "cell_type": "code",
   "execution_count": 92,
   "id": "411ca211-59b1-4884-9013-64b7ea598e49",
   "metadata": {},
   "outputs": [
    {
     "data": {
      "text/plain": [
       "gender_risk\n",
       "3    1685\n",
       "2    1165\n",
       "0     901\n",
       "1     489\n",
       "Name: count, dtype: int64"
      ]
     },
     "execution_count": 92,
     "metadata": {},
     "output_type": "execute_result"
    }
   ],
   "source": [
    "df['gender_risk'].value_counts()"
   ]
  },
  {
   "cell_type": "code",
   "execution_count": 94,
   "id": "b077c8a0-a63e-4cf9-b10a-21487f421d22",
   "metadata": {},
   "outputs": [
    {
     "data": {
      "image/png": "[encoded data removed]",
      "text/plain": [
       "<Figure size 640x480 with 1 Axes>"
      ]
     },
     "metadata": {},
     "output_type": "display_data"
    }
   ],
   "source": [
    "risk_by_ch = df.groupby('gender_risk')['Heart-Att'].mean().reset_index()\n",
    "colors = ['yellow', 'green', 'red', 'brown'] \n",
    "\n",
    "sns.barplot(x='gender_risk', y='Heart-Att',data=risk_by_ch,orient='v',palette=colors)\n",
    "plt.ylabel(\"Heart Attack Rate\")\n",
    "plt.xlabel(\"Gender risk\")\n",
    "plt.title(\"Heart Attack Risk by Gender risk\")\n",
    "plt.show()"
   ]
  },
  {
   "cell_type": "code",
   "execution_count": 95,
   "id": "99638805-5229-4b79-b8c9-26b979899d50",
   "metadata": {},
   "outputs": [
    {
     "name": "stdout",
     "output_type": "stream",
     "text": [
      "<class 'pandas.core.frame.DataFrame'>\n",
      "RangeIndex: 4240 entries, 0 to 4239\n",
      "Data columns (total 23 columns):\n",
      " #   Column               Non-Null Count  Dtype   \n",
      "---  ------               --------------  -----   \n",
      " 0   Gender               4240 non-null   object  \n",
      " 1   age                  4240 non-null   float64 \n",
      " 2   education            4240 non-null   object  \n",
      " 3   cigsPerDay           4240 non-null   float64 \n",
      " 4   BP Meds              4240 non-null   float64 \n",
      " 5   prevalentStroke      4240 non-null   float64 \n",
      " 6   prevalentHyp         4240 non-null   float64 \n",
      " 7   diabetes             4240 non-null   float64 \n",
      " 8   tot cholesterol      4240 non-null   float64 \n",
      " 9   Systolic BP          4240 non-null   float64 \n",
      " 10  Diastolic BP         4240 non-null   float64 \n",
      " 11  BMI                  4240 non-null   float64 \n",
      " 12  heartRate            4240 non-null   float64 \n",
      " 13  glucose              4240 non-null   float64 \n",
      " 14  Heart-Att            4240 non-null   int64   \n",
      " 15  age_group            4240 non-null   category\n",
      " 16  high_risk_age_group  4240 non-null   int64   \n",
      " 17  bmi_risk             4240 non-null   int64   \n",
      " 18  smoking_risk         4240 non-null   int64   \n",
      " 19  smoking_riskk        4240 non-null   int64   \n",
      " 20  smoking_riskkk       4240 non-null   int64   \n",
      " 21  cholesterol_risk     4240 non-null   int64   \n",
      " 22  gender_risk          4240 non-null   int64   \n",
      "dtypes: category(1), float64(12), int64(8), object(2)\n",
      "memory usage: 733.2+ KB\n"
     ]
    }
   ],
   "source": [
    "df.info()"
   ]
  },
  {
   "cell_type": "code",
   "execution_count": 97,
   "id": "f2b70315-e236-419b-badc-be590eb87121",
   "metadata": {},
   "outputs": [],
   "source": [
    "df.drop(['smoking_risk','smoking_riskk'],axis=1,inplace=True)"
   ]
  },
  {
   "cell_type": "code",
   "execution_count": 274,
   "id": "efb3c128-a07a-4d06-8c33-94cbccd10c67",
   "metadata": {},
   "outputs": [],
   "source": [
    "correlation=df[['Systolic BP','Diastolic BP','glucose','BP Meds','diabetes','prevalentStroke','heartRate','prevalentHyp']]"
   ]
  },
  {
   "cell_type": "code",
   "execution_count": 275,
   "id": "f9b172c8-84c6-4070-8508-f490b295530a",
   "metadata": {},
   "outputs": [],
   "source": [
    "cr=correlation.corr()"
   ]
  },
  {
   "cell_type": "code",
   "execution_count": 276,
   "id": "92e2750d-41f7-477f-b262-eb709f5c0cca",
   "metadata": {},
   "outputs": [
    {
     "data": {
      "text/plain": [
       "<Axes: >"
      ]
     },
     "execution_count": 276,
     "metadata": {},
     "output_type": "execute_result"
    },
    {
     "data": {
      "image/png": "[encoded data removed]",
      "text/plain": [
       "<Figure size 640x480 with 2 Axes>"
      ]
     },
     "metadata": {},
     "output_type": "display_data"
    }
   ],
   "source": [
    "sns.heatmap(cr,annot=True,fmt='.2f')"
   ]
  },
  {
   "cell_type": "code",
   "execution_count": 103,
   "id": "03e6e00f-54bc-469a-b051-fa5f223cf42d",
   "metadata": {},
   "outputs": [
    {
     "data": {
      "text/plain": [
       "count    4240.000000\n",
       "mean       75.866981\n",
       "std        11.993855\n",
       "min        44.000000\n",
       "25%        68.000000\n",
       "50%        75.000000\n",
       "75%        83.000000\n",
       "max       143.000000\n",
       "Name: heartRate, dtype: float64"
      ]
     },
     "execution_count": 103,
     "metadata": {},
     "output_type": "execute_result"
    }
   ],
   "source": [
    "df['heartRate'].describe()"
   ]
  },
  {
   "cell_type": "code",
   "execution_count": 135,
   "id": "35910e7c-872d-4642-a3d9-4a1c71b3a43b",
   "metadata": {},
   "outputs": [
    {
     "data": {
      "text/html": [
       "<div>\n",
       "<style scoped>\n",
       "    .dataframe tbody tr th:only-of-type {\n",
       "        vertical-align: middle;\n",
       "    }\n",
       "\n",
       "    .dataframe tbody tr th {\n",
       "        vertical-align: top;\n",
       "    }\n",
       "\n",
       "    .dataframe thead th {\n",
       "        text-align: right;\n",
       "    }\n",
       "</style>\n",
       "<table border=\"1\" class=\"dataframe\">\n",
       "  <thead>\n",
       "    <tr style=\"text-align: right;\">\n",
       "      <th>Heart-Att</th>\n",
       "      <th>0</th>\n",
       "      <th>1</th>\n",
       "    </tr>\n",
       "    <tr>\n",
       "      <th>heartRate</th>\n",
       "      <th></th>\n",
       "      <th></th>\n",
       "    </tr>\n",
       "  </thead>\n",
       "  <tbody>\n",
       "    <tr>\n",
       "      <th>False</th>\n",
       "      <td>0.849328</td>\n",
       "      <td>0.150672</td>\n",
       "    </tr>\n",
       "    <tr>\n",
       "      <th>True</th>\n",
       "      <td>0.777778</td>\n",
       "      <td>0.222222</td>\n",
       "    </tr>\n",
       "  </tbody>\n",
       "</table>\n",
       "</div>"
      ],
      "text/plain": [
       "Heart-Att         0         1\n",
       "heartRate                    \n",
       "False      0.849328  0.150672\n",
       "True       0.777778  0.222222"
      ]
     },
     "execution_count": 135,
     "metadata": {},
     "output_type": "execute_result"
    }
   ],
   "source": [
    "pd.crosstab(df['heartRate']>105, df['Heart-Att'], normalize='index')"
   ]
  },
  {
   "cell_type": "code",
   "execution_count": 126,
   "id": "270d389a-f53e-4624-b64d-79addeb603e7",
   "metadata": {},
   "outputs": [],
   "source": [
    "df['Heartrate_risk'] = df['heartRate'].apply(lambda x: 1 if x >=108  else 0)"
   ]
  },
  {
   "cell_type": "code",
   "execution_count": 127,
   "id": "86e4ef4d-0611-4e12-a587-b56a61ba58ac",
   "metadata": {},
   "outputs": [
    {
     "data": {
      "text/plain": [
       "Heartrate_risk\n",
       "0    4174\n",
       "1      66\n",
       "Name: count, dtype: int64"
      ]
     },
     "execution_count": 127,
     "metadata": {},
     "output_type": "execute_result"
    }
   ],
   "source": [
    "df['Heartrate_risk'].value_counts()"
   ]
  },
  {
   "cell_type": "code",
   "execution_count": 137,
   "id": "007fd1c5-20e3-494c-8d9d-61ba38060580",
   "metadata": {},
   "outputs": [
    {
     "data": {
      "image/png": "[encoded data removed]",
      "text/plain": [
       "<Figure size 640x480 with 1 Axes>"
      ]
     },
     "metadata": {},
     "output_type": "display_data"
    }
   ],
   "source": [
    "risk_by_ch = df.groupby('Heartrate_risk')['Heart-Att'].mean().reset_index()\n",
    "colors = ['yellow', 'green', 'red', 'brown'] \n",
    "\n",
    "sns.barplot(x='Heartrate_risk', y='Heart-Att',data=risk_by_ch,orient='v',palette=colors)\n",
    "plt.ylabel(\"Heart Attack Rate\")\n",
    "plt.xlabel(\"Heart rate Risk\")\n",
    "plt.title(\"Heart Attack Risk by Heart rate\")\n",
    "plt.show()"
   ]
  },
  {
   "cell_type": "code",
   "execution_count": 139,
   "id": "87914c86-7c00-4c7e-b086-8a382cfe8d1d",
   "metadata": {},
   "outputs": [
    {
     "data": {
      "text/html": [
       "<div>\n",
       "<style scoped>\n",
       "    .dataframe tbody tr th:only-of-type {\n",
       "        vertical-align: middle;\n",
       "    }\n",
       "\n",
       "    .dataframe tbody tr th {\n",
       "        vertical-align: top;\n",
       "    }\n",
       "\n",
       "    .dataframe thead th {\n",
       "        text-align: right;\n",
       "    }\n",
       "</style>\n",
       "<table border=\"1\" class=\"dataframe\">\n",
       "  <thead>\n",
       "    <tr style=\"text-align: right;\">\n",
       "      <th></th>\n",
       "      <th>Systolic BP</th>\n",
       "      <th>Diastolic BP</th>\n",
       "    </tr>\n",
       "  </thead>\n",
       "  <tbody>\n",
       "    <tr>\n",
       "      <th>count</th>\n",
       "      <td>4240.000000</td>\n",
       "      <td>4240.000000</td>\n",
       "    </tr>\n",
       "    <tr>\n",
       "      <th>mean</th>\n",
       "      <td>132.358255</td>\n",
       "      <td>82.900825</td>\n",
       "    </tr>\n",
       "    <tr>\n",
       "      <th>std</th>\n",
       "      <td>22.029250</td>\n",
       "      <td>11.907479</td>\n",
       "    </tr>\n",
       "    <tr>\n",
       "      <th>min</th>\n",
       "      <td>83.500000</td>\n",
       "      <td>48.000000</td>\n",
       "    </tr>\n",
       "    <tr>\n",
       "      <th>25%</th>\n",
       "      <td>117.000000</td>\n",
       "      <td>75.000000</td>\n",
       "    </tr>\n",
       "    <tr>\n",
       "      <th>50%</th>\n",
       "      <td>128.000000</td>\n",
       "      <td>82.000000</td>\n",
       "    </tr>\n",
       "    <tr>\n",
       "      <th>75%</th>\n",
       "      <td>144.000000</td>\n",
       "      <td>89.625000</td>\n",
       "    </tr>\n",
       "    <tr>\n",
       "      <th>max</th>\n",
       "      <td>295.000000</td>\n",
       "      <td>142.500000</td>\n",
       "    </tr>\n",
       "  </tbody>\n",
       "</table>\n",
       "</div>"
      ],
      "text/plain": [
       "       Systolic BP  Diastolic BP\n",
       "count  4240.000000   4240.000000\n",
       "mean    132.358255     82.900825\n",
       "std      22.029250     11.907479\n",
       "min      83.500000     48.000000\n",
       "25%     117.000000     75.000000\n",
       "50%     128.000000     82.000000\n",
       "75%     144.000000     89.625000\n",
       "max     295.000000    142.500000"
      ]
     },
     "execution_count": 139,
     "metadata": {},
     "output_type": "execute_result"
    }
   ],
   "source": [
    "df[['Systolic BP','Diastolic BP']].describe()"
   ]
  },
  {
   "cell_type": "code",
   "execution_count": 204,
   "id": "87c4dc82-57ff-4e54-90f2-5b4ead8d0c66",
   "metadata": {},
   "outputs": [
    {
     "data": {
      "text/html": [
       "<div>\n",
       "<style scoped>\n",
       "    .dataframe tbody tr th:only-of-type {\n",
       "        vertical-align: middle;\n",
       "    }\n",
       "\n",
       "    .dataframe tbody tr th {\n",
       "        vertical-align: top;\n",
       "    }\n",
       "\n",
       "    .dataframe thead th {\n",
       "        text-align: right;\n",
       "    }\n",
       "</style>\n",
       "<table border=\"1\" class=\"dataframe\">\n",
       "  <thead>\n",
       "    <tr style=\"text-align: right;\">\n",
       "      <th>Heart-Att</th>\n",
       "      <th>0</th>\n",
       "      <th>1</th>\n",
       "    </tr>\n",
       "    <tr>\n",
       "      <th>Systolic BP</th>\n",
       "      <th></th>\n",
       "      <th></th>\n",
       "    </tr>\n",
       "  </thead>\n",
       "  <tbody>\n",
       "    <tr>\n",
       "      <th>False</th>\n",
       "      <td>0.902104</td>\n",
       "      <td>0.097896</td>\n",
       "    </tr>\n",
       "    <tr>\n",
       "      <th>True</th>\n",
       "      <td>0.782313</td>\n",
       "      <td>0.217687</td>\n",
       "    </tr>\n",
       "  </tbody>\n",
       "</table>\n",
       "</div>"
      ],
      "text/plain": [
       "Heart-Att           0         1\n",
       "Systolic BP                    \n",
       "False        0.902104  0.097896\n",
       "True         0.782313  0.217687"
      ]
     },
     "execution_count": 204,
     "metadata": {},
     "output_type": "execute_result"
    }
   ],
   "source": [
    "pd.crosstab(df['Systolic BP']>130, df['Heart-Att'], normalize='index')"
   ]
  },
  {
   "cell_type": "code",
   "execution_count": 202,
   "id": "2054199d-afef-4801-b6f6-af1dda03ec85",
   "metadata": {},
   "outputs": [
    {
     "data": {
      "text/html": [
       "<div>\n",
       "<style scoped>\n",
       "    .dataframe tbody tr th:only-of-type {\n",
       "        vertical-align: middle;\n",
       "    }\n",
       "\n",
       "    .dataframe tbody tr th {\n",
       "        vertical-align: top;\n",
       "    }\n",
       "\n",
       "    .dataframe thead th {\n",
       "        text-align: right;\n",
       "    }\n",
       "</style>\n",
       "<table border=\"1\" class=\"dataframe\">\n",
       "  <thead>\n",
       "    <tr style=\"text-align: right;\">\n",
       "      <th>Heart-Att</th>\n",
       "      <th>0</th>\n",
       "      <th>1</th>\n",
       "    </tr>\n",
       "    <tr>\n",
       "      <th>Systolic BP</th>\n",
       "      <th></th>\n",
       "      <th></th>\n",
       "    </tr>\n",
       "  </thead>\n",
       "  <tbody>\n",
       "    <tr>\n",
       "      <th>False</th>\n",
       "      <td>0.848356</td>\n",
       "      <td>0.151644</td>\n",
       "    </tr>\n",
       "    <tr>\n",
       "      <th>True</th>\n",
       "      <td>0.769231</td>\n",
       "      <td>0.230769</td>\n",
       "    </tr>\n",
       "  </tbody>\n",
       "</table>\n",
       "</div>"
      ],
      "text/plain": [
       "Heart-Att           0         1\n",
       "Systolic BP                    \n",
       "False        0.848356  0.151644\n",
       "True         0.769231  0.230769"
      ]
     },
     "execution_count": 202,
     "metadata": {},
     "output_type": "execute_result"
    }
   ],
   "source": [
    "pd.crosstab(df['Systolic BP']<94, df['Heart-Att'], normalize='index')\n"
   ]
  },
  {
   "cell_type": "code",
   "execution_count": 203,
   "id": "c913101a-0fea-4bf7-9d6a-d2c3d55129fd",
   "metadata": {},
   "outputs": [
    {
     "data": {
      "text/plain": [
       "np.int64(13)"
      ]
     },
     "execution_count": 203,
     "metadata": {},
     "output_type": "execute_result"
    }
   ],
   "source": [
    "df[df['Systolic BP']<94].value_counts().sum()"
   ]
  },
  {
   "cell_type": "code",
   "execution_count": 194,
   "id": "7c55a0dd-70e1-45e3-ba3e-7fe57e022667",
   "metadata": {},
   "outputs": [
    {
     "data": {
      "text/plain": [
       "np.int64(965)"
      ]
     },
     "execution_count": 194,
     "metadata": {},
     "output_type": "execute_result"
    }
   ],
   "source": [
    "df[df['Systolic BP']>145].value_counts().sum()"
   ]
  },
  {
   "cell_type": "code",
   "execution_count": 190,
   "id": "3ec98287-afaa-4434-bde1-b5409dbb16d2",
   "metadata": {},
   "outputs": [
    {
     "data": {
      "text/html": [
       "<div>\n",
       "<style scoped>\n",
       "    .dataframe tbody tr th:only-of-type {\n",
       "        vertical-align: middle;\n",
       "    }\n",
       "\n",
       "    .dataframe tbody tr th {\n",
       "        vertical-align: top;\n",
       "    }\n",
       "\n",
       "    .dataframe thead th {\n",
       "        text-align: right;\n",
       "    }\n",
       "</style>\n",
       "<table border=\"1\" class=\"dataframe\">\n",
       "  <thead>\n",
       "    <tr style=\"text-align: right;\">\n",
       "      <th>Heart-Att</th>\n",
       "      <th>0</th>\n",
       "      <th>1</th>\n",
       "    </tr>\n",
       "    <tr>\n",
       "      <th>Diastolic BP</th>\n",
       "      <th></th>\n",
       "      <th></th>\n",
       "    </tr>\n",
       "  </thead>\n",
       "  <tbody>\n",
       "    <tr>\n",
       "      <th>False</th>\n",
       "      <td>0.874773</td>\n",
       "      <td>0.125227</td>\n",
       "    </tr>\n",
       "    <tr>\n",
       "      <th>True</th>\n",
       "      <td>0.754777</td>\n",
       "      <td>0.245223</td>\n",
       "    </tr>\n",
       "  </tbody>\n",
       "</table>\n",
       "</div>"
      ],
      "text/plain": [
       "Heart-Att            0         1\n",
       "Diastolic BP                    \n",
       "False         0.874773  0.125227\n",
       "True          0.754777  0.245223"
      ]
     },
     "execution_count": 190,
     "metadata": {},
     "output_type": "execute_result"
    }
   ],
   "source": [
    "pd.crosstab(df['Diastolic BP']>90, df['Heart-Att'], normalize='index')"
   ]
  },
  {
   "cell_type": "code",
   "execution_count": 186,
   "id": "684a1fe6-e01c-4f31-851c-4f7248ebf867",
   "metadata": {},
   "outputs": [
    {
     "data": {
      "text/plain": [
       "np.int64(942)"
      ]
     },
     "execution_count": 186,
     "metadata": {},
     "output_type": "execute_result"
    }
   ],
   "source": [
    "df[df['Diastolic BP']>90].value_counts().sum()\n",
    "\n"
   ]
  },
  {
   "cell_type": "code",
   "execution_count": 187,
   "id": "90be6b83-288a-4ccf-bb03-1822b218667c",
   "metadata": {},
   "outputs": [
    {
     "data": {
      "text/plain": [
       "np.int64(67)"
      ]
     },
     "execution_count": 187,
     "metadata": {},
     "output_type": "execute_result"
    }
   ],
   "source": [
    "df[df['Diastolic BP']<=60].value_counts().sum()\n"
   ]
  },
  {
   "cell_type": "code",
   "execution_count": 189,
   "id": "fbd9ea01-bf77-4e88-815a-004ff243cf65",
   "metadata": {},
   "outputs": [
    {
     "data": {
      "text/html": [
       "<div>\n",
       "<style scoped>\n",
       "    .dataframe tbody tr th:only-of-type {\n",
       "        vertical-align: middle;\n",
       "    }\n",
       "\n",
       "    .dataframe tbody tr th {\n",
       "        vertical-align: top;\n",
       "    }\n",
       "\n",
       "    .dataframe thead th {\n",
       "        text-align: right;\n",
       "    }\n",
       "</style>\n",
       "<table border=\"1\" class=\"dataframe\">\n",
       "  <thead>\n",
       "    <tr style=\"text-align: right;\">\n",
       "      <th>Heart-Att</th>\n",
       "      <th>0</th>\n",
       "      <th>1</th>\n",
       "    </tr>\n",
       "    <tr>\n",
       "      <th>Diastolic BP</th>\n",
       "      <th></th>\n",
       "      <th></th>\n",
       "    </tr>\n",
       "  </thead>\n",
       "  <tbody>\n",
       "    <tr>\n",
       "      <th>False</th>\n",
       "      <td>0.848636</td>\n",
       "      <td>0.151364</td>\n",
       "    </tr>\n",
       "    <tr>\n",
       "      <th>True</th>\n",
       "      <td>0.760000</td>\n",
       "      <td>0.240000</td>\n",
       "    </tr>\n",
       "  </tbody>\n",
       "</table>\n",
       "</div>"
      ],
      "text/plain": [
       "Heart-Att            0         1\n",
       "Diastolic BP                    \n",
       "False         0.848636  0.151364\n",
       "True          0.760000  0.240000"
      ]
     },
     "execution_count": 189,
     "metadata": {},
     "output_type": "execute_result"
    }
   ],
   "source": [
    "pd.crosstab(df['Diastolic BP']<=58, df['Heart-Att'], normalize='index')"
   ]
  },
  {
   "cell_type": "code",
   "execution_count": 191,
   "id": "b19ace71-b06f-49a3-9b29-9003772fddd6",
   "metadata": {},
   "outputs": [],
   "source": [
    "df['Diastolic_BP_risk'] = df['Diastolic BP'].apply(lambda x: 2 if (x >100 or x<=55) else (1 if (x >90 or x<=58)  else 0))"
   ]
  },
  {
   "cell_type": "code",
   "execution_count": 193,
   "id": "c9b989c0-ecdf-4d00-862d-14bec35cae09",
   "metadata": {},
   "outputs": [
    {
     "data": {
      "image/png": "[encoded data removed]",
      "text/plain": [
       "<Figure size 640x480 with 1 Axes>"
      ]
     },
     "metadata": {},
     "output_type": "display_data"
    }
   ],
   "source": [
    "risk_by_ch = df.groupby('Diastolic_BP_risk')['Heart-Att'].mean().reset_index()\n",
    "colors = ['yellow', 'green', 'red', 'brown'] \n",
    "\n",
    "sns.barplot(x='Diastolic_BP_risk', y='Heart-Att',data=risk_by_ch,orient='v',palette=colors)\n",
    "plt.ylabel(\"Heart Attack Rate\")\n",
    "plt.xlabel(\"Diastolic BP\")\n",
    "plt.title(\"Heart Attack Risk by Diastolic BP\")\n",
    "plt.show()"
   ]
  },
  {
   "cell_type": "code",
   "execution_count": 205,
   "id": "192493cf-8ce6-44c9-a4de-e6898bc49818",
   "metadata": {},
   "outputs": [],
   "source": [
    "df['Systolic_BP_risk'] = df['Systolic BP'].apply(lambda x: 2 if (x >145 or x<90) else (1 if (x >130 or x<94)  else 0))"
   ]
  },
  {
   "cell_type": "code",
   "execution_count": 206,
   "id": "4ac48c98-79a0-44c3-8c4f-b885bb184e1c",
   "metadata": {},
   "outputs": [
    {
     "data": {
      "image/png": "[encoded data removed]",
      "text/plain": [
       "<Figure size 640x480 with 1 Axes>"
      ]
     },
     "metadata": {},
     "output_type": "display_data"
    }
   ],
   "source": [
    "risk_by_ch = df.groupby('Systolic_BP_risk')['Heart-Att'].mean().reset_index()\n",
    "colors = ['yellow', 'green', 'red', 'brown'] \n",
    "\n",
    "sns.barplot(x='Systolic_BP_risk', y='Heart-Att',data=risk_by_ch,orient='v',palette=colors)\n",
    "plt.ylabel(\"Heart Attack Rate\")\n",
    "plt.xlabel(\"Systolic_BP_risk\")\n",
    "plt.title(\"Heart Attack Risk by Systolic_BP_risk\")\n",
    "plt.show()"
   ]
  },
  {
   "cell_type": "code",
   "execution_count": 207,
   "id": "9ea0f014-6228-4810-9bc8-38bdf9aebc15",
   "metadata": {},
   "outputs": [
    {
     "data": {
      "text/plain": [
       "Systolic_BP_risk\n",
       "0    2316\n",
       "2     969\n",
       "1     955\n",
       "Name: count, dtype: int64"
      ]
     },
     "execution_count": 207,
     "metadata": {},
     "output_type": "execute_result"
    }
   ],
   "source": [
    "df['Systolic_BP_risk'].value_counts()"
   ]
  },
  {
   "cell_type": "code",
   "execution_count": 209,
   "id": "0a0302dc-d557-4e10-9579-39df410ce55f",
   "metadata": {},
   "outputs": [
    {
     "data": {
      "text/plain": [
       "Diastolic_BP_risk\n",
       "0    3273\n",
       "1     638\n",
       "2     329\n",
       "Name: count, dtype: int64"
      ]
     },
     "execution_count": 209,
     "metadata": {},
     "output_type": "execute_result"
    }
   ],
   "source": [
    "df['Diastolic_BP_risk'].value_counts()"
   ]
  },
  {
   "cell_type": "code",
   "execution_count": 210,
   "id": "bb2bf722-5a26-4c54-bd30-f7a5e2046dd0",
   "metadata": {},
   "outputs": [
    {
     "name": "stdout",
     "output_type": "stream",
     "text": [
      "<class 'pandas.core.frame.DataFrame'>\n",
      "RangeIndex: 4240 entries, 0 to 4239\n",
      "Data columns (total 24 columns):\n",
      " #   Column               Non-Null Count  Dtype   \n",
      "---  ------               --------------  -----   \n",
      " 0   Gender               4240 non-null   object  \n",
      " 1   age                  4240 non-null   float64 \n",
      " 2   education            4240 non-null   object  \n",
      " 3   cigsPerDay           4240 non-null   float64 \n",
      " 4   BP Meds              4240 non-null   float64 \n",
      " 5   prevalentStroke      4240 non-null   float64 \n",
      " 6   prevalentHyp         4240 non-null   float64 \n",
      " 7   diabetes             4240 non-null   float64 \n",
      " 8   tot cholesterol      4240 non-null   float64 \n",
      " 9   Systolic BP          4240 non-null   float64 \n",
      " 10  Diastolic BP         4240 non-null   float64 \n",
      " 11  BMI                  4240 non-null   float64 \n",
      " 12  heartRate            4240 non-null   float64 \n",
      " 13  glucose              4240 non-null   float64 \n",
      " 14  Heart-Att            4240 non-null   int64   \n",
      " 15  age_group            4240 non-null   category\n",
      " 16  high_risk_age_group  4240 non-null   int64   \n",
      " 17  bmi_risk             4240 non-null   int64   \n",
      " 18  smoking_riskkk       4240 non-null   int64   \n",
      " 19  cholesterol_risk     4240 non-null   int64   \n",
      " 20  gender_risk          4240 non-null   int64   \n",
      " 21  Heartrate_risk       4240 non-null   int64   \n",
      " 22  Diastolic_BP_risk    4240 non-null   int64   \n",
      " 23  Systolic_BP_risk     4240 non-null   int64   \n",
      "dtypes: category(1), float64(12), int64(9), object(2)\n",
      "memory usage: 766.3+ KB\n"
     ]
    }
   ],
   "source": [
    "df.info()"
   ]
  },
  {
   "cell_type": "code",
   "execution_count": 211,
   "id": "8a1f4fa0-d014-47b4-b6f5-6ef0902595f5",
   "metadata": {},
   "outputs": [
    {
     "data": {
      "text/plain": [
       "count    4240.000000\n",
       "mean       82.198821\n",
       "std        23.387125\n",
       "min        40.000000\n",
       "25%        72.000000\n",
       "50%        78.000000\n",
       "75%        86.000000\n",
       "max       394.000000\n",
       "Name: glucose, dtype: float64"
      ]
     },
     "execution_count": 211,
     "metadata": {},
     "output_type": "execute_result"
    }
   ],
   "source": [
    "df['glucose'].describe()"
   ]
  },
  {
   "cell_type": "code",
   "execution_count": 268,
   "id": "bf19b8e9-8b6b-4cdd-b7d6-f64bb6fe598f",
   "metadata": {},
   "outputs": [
    {
     "data": {
      "text/html": [
       "<div>\n",
       "<style scoped>\n",
       "    .dataframe tbody tr th:only-of-type {\n",
       "        vertical-align: middle;\n",
       "    }\n",
       "\n",
       "    .dataframe tbody tr th {\n",
       "        vertical-align: top;\n",
       "    }\n",
       "\n",
       "    .dataframe thead th {\n",
       "        text-align: right;\n",
       "    }\n",
       "</style>\n",
       "<table border=\"1\" class=\"dataframe\">\n",
       "  <thead>\n",
       "    <tr style=\"text-align: right;\">\n",
       "      <th>Heart-Att</th>\n",
       "      <th>0</th>\n",
       "      <th>1</th>\n",
       "    </tr>\n",
       "    <tr>\n",
       "      <th>glucose</th>\n",
       "      <th></th>\n",
       "      <th></th>\n",
       "    </tr>\n",
       "  </thead>\n",
       "  <tbody>\n",
       "    <tr>\n",
       "      <th>False</th>\n",
       "      <td>0.848263</td>\n",
       "      <td>0.151737</td>\n",
       "    </tr>\n",
       "    <tr>\n",
       "      <th>True</th>\n",
       "      <td>0.777778</td>\n",
       "      <td>0.222222</td>\n",
       "    </tr>\n",
       "  </tbody>\n",
       "</table>\n",
       "</div>"
      ],
      "text/plain": [
       "Heart-Att         0         1\n",
       "glucose                      \n",
       "False      0.848263  0.151737\n",
       "True       0.777778  0.222222"
      ]
     },
     "execution_count": 268,
     "metadata": {},
     "output_type": "execute_result"
    }
   ],
   "source": [
    "pd.crosstab(df['glucose']<46, df['Heart-Att'], normalize='index')"
   ]
  },
  {
   "cell_type": "code",
   "execution_count": 252,
   "id": "2487bdfa-3eaa-432b-bb0b-32236c937877",
   "metadata": {},
   "outputs": [
    {
     "data": {
      "text/plain": [
       "np.int64(9)"
      ]
     },
     "execution_count": 252,
     "metadata": {},
     "output_type": "execute_result"
    }
   ],
   "source": [
    "df[df['glucose']<=46].value_counts().sum()"
   ]
  },
  {
   "cell_type": "code",
   "execution_count": 269,
   "id": "2044954d-4958-4100-9667-a03ff7dd663f",
   "metadata": {},
   "outputs": [
    {
     "data": {
      "text/html": [
       "<div>\n",
       "<style scoped>\n",
       "    .dataframe tbody tr th:only-of-type {\n",
       "        vertical-align: middle;\n",
       "    }\n",
       "\n",
       "    .dataframe tbody tr th {\n",
       "        vertical-align: top;\n",
       "    }\n",
       "\n",
       "    .dataframe thead th {\n",
       "        text-align: right;\n",
       "    }\n",
       "</style>\n",
       "<table border=\"1\" class=\"dataframe\">\n",
       "  <thead>\n",
       "    <tr style=\"text-align: right;\">\n",
       "      <th>Heart-Att</th>\n",
       "      <th>0</th>\n",
       "      <th>1</th>\n",
       "    </tr>\n",
       "    <tr>\n",
       "      <th>glucose</th>\n",
       "      <th></th>\n",
       "      <th></th>\n",
       "    </tr>\n",
       "  </thead>\n",
       "  <tbody>\n",
       "    <tr>\n",
       "      <th>False</th>\n",
       "      <td>0.865918</td>\n",
       "      <td>0.134082</td>\n",
       "    </tr>\n",
       "    <tr>\n",
       "      <th>True</th>\n",
       "      <td>0.544681</td>\n",
       "      <td>0.455319</td>\n",
       "    </tr>\n",
       "  </tbody>\n",
       "</table>\n",
       "</div>"
      ],
      "text/plain": [
       "Heart-Att         0         1\n",
       "glucose                      \n",
       "False      0.865918  0.134082\n",
       "True       0.544681  0.455319"
      ]
     },
     "execution_count": 269,
     "metadata": {},
     "output_type": "execute_result"
    }
   ],
   "source": [
    "pd.crosstab(df['glucose']>110, df['Heart-Att'], normalize='index')"
   ]
  },
  {
   "cell_type": "code",
   "execution_count": 260,
   "id": "75c4486f-3b21-4242-97ca-39629d179ebb",
   "metadata": {},
   "outputs": [
    {
     "data": {
      "text/plain": [
       "np.int64(285)"
      ]
     },
     "execution_count": 260,
     "metadata": {},
     "output_type": "execute_result"
    }
   ],
   "source": [
    "df[df['glucose']>105].value_counts().sum()"
   ]
  },
  {
   "cell_type": "code",
   "execution_count": 263,
   "id": "d9888847-6005-46b8-b93a-5290757e44a0",
   "metadata": {},
   "outputs": [],
   "source": [
    "df['Glucose_risk'] = df['glucose'].apply(lambda x: 2 if (x >120 or x<=42) else (1 if (x >105 or x<46)  else 0))"
   ]
  },
  {
   "cell_type": "code",
   "execution_count": 266,
   "id": "8e68ac3a-e6ed-4118-ac7d-c5e1999166e8",
   "metadata": {},
   "outputs": [
    {
     "data": {
      "image/png": "[encoded data removed]",
      "text/plain": [
       "<Figure size 640x480 with 1 Axes>"
      ]
     },
     "metadata": {},
     "output_type": "display_data"
    }
   ],
   "source": [
    "risk_by_gl = df.groupby('Glucose_risk')['Heart-Att'].mean().reset_index()\n",
    "colors = ['yellow', 'green', 'red', 'brown'] \n",
    "\n",
    "sns.barplot(x='Glucose_risk', y='Heart-Att',data=risk_by_gl,orient='v',palette=colors)\n",
    "plt.ylabel(\"Heart Attack Rate\")\n",
    "plt.xlabel(\"Glucose_risk\")\n",
    "plt.title(\"Heart Attack Risk by Glucose_risk\")\n",
    "plt.show()"
   ]
  },
  {
   "cell_type": "code",
   "execution_count": 264,
   "id": "b4a61e84-58a0-44c2-ac4d-d3517ddaf7b4",
   "metadata": {},
   "outputs": [
    {
     "data": {
      "text/plain": [
       "Glucose_risk\n",
       "0    3946\n",
       "2     155\n",
       "1     139\n",
       "Name: count, dtype: int64"
      ]
     },
     "execution_count": 264,
     "metadata": {},
     "output_type": "execute_result"
    }
   ],
   "source": [
    "df['Glucose_risk'].value_counts()"
   ]
  },
  {
   "cell_type": "code",
   "execution_count": 270,
   "id": "3b5ead8e-96ed-45a7-afdf-633b63a95142",
   "metadata": {},
   "outputs": [
    {
     "data": {
      "image/png": "[encoded data removed]",
      "text/plain": [
       "<Figure size 640x480 with 1 Axes>"
      ]
     },
     "metadata": {},
     "output_type": "display_data"
    }
   ],
   "source": [
    "risk_by_bpmed = df.groupby('BP Meds')['Heart-Att'].mean().reset_index()\n",
    "colors = ['yellow', 'green', 'red', 'brown'] \n",
    "\n",
    "sns.barplot(x='BP Meds', y='Heart-Att',data=risk_by_bpmed,orient='v',palette=colors)\n",
    "plt.ylabel(\"Heart Attack Rate\")\n",
    "plt.xlabel(\"BP MED\")\n",
    "plt.title(\"Heart Attack Risk by BP MED\")\n",
    "plt.show()"
   ]
  },
  {
   "cell_type": "code",
   "execution_count": 271,
   "id": "6f1e152b-35db-4fee-beb3-b3b684ffd6fe",
   "metadata": {},
   "outputs": [
    {
     "data": {
      "text/plain": [
       "BP Meds\n",
       "0.0    4086\n",
       "1.0     154\n",
       "Name: count, dtype: int64"
      ]
     },
     "execution_count": 271,
     "metadata": {},
     "output_type": "execute_result"
    }
   ],
   "source": [
    "df['BP Meds'].value_counts()"
   ]
  },
  {
   "cell_type": "code",
   "execution_count": 272,
   "id": "342e9b91-110b-4706-a4f7-8c752b361c56",
   "metadata": {},
   "outputs": [
    {
     "data": {
      "image/png": "[encoded data removed]",
      "text/plain": [
       "<Figure size 640x480 with 1 Axes>"
      ]
     },
     "metadata": {},
     "output_type": "display_data"
    }
   ],
   "source": [
    "risk_by_stroke = df.groupby('prevalentStroke')['Heart-Att'].mean().reset_index()\n",
    "colors = ['yellow', 'green', 'red', 'brown'] \n",
    "\n",
    "sns.barplot(x='prevalentStroke', y='Heart-Att',data=risk_by_stroke,orient='v',palette=colors)\n",
    "plt.ylabel(\"Heart Attack Rate\")\n",
    "plt.xlabel(\"prevalentStroke\")\n",
    "plt.title(\"Heart Attack Risk by prevalentStroke\")\n",
    "plt.show()"
   ]
  },
  {
   "cell_type": "code",
   "execution_count": 273,
   "id": "29178f6d-f492-4cef-903c-d57ccae21e2f",
   "metadata": {},
   "outputs": [
    {
     "data": {
      "text/plain": [
       "prevalentStroke\n",
       "0.0    4211\n",
       "1.0      29\n",
       "Name: count, dtype: int64"
      ]
     },
     "execution_count": 273,
     "metadata": {},
     "output_type": "execute_result"
    }
   ],
   "source": [
    "df['prevalentStroke'].value_counts()"
   ]
  },
  {
   "cell_type": "code",
   "execution_count": 277,
   "id": "aada8412-c998-4797-887f-62aa5cb560dc",
   "metadata": {},
   "outputs": [
    {
     "data": {
      "image/png": "[encoded data removed]",
      "text/plain": [
       "<Figure size 640x480 with 1 Axes>"
      ]
     },
     "metadata": {},
     "output_type": "display_data"
    }
   ],
   "source": [
    "risk_by_hp = df.groupby('prevalentHyp')['Heart-Att'].mean().reset_index()\n",
    "colors = ['yellow', 'green', 'red', 'brown'] \n",
    "\n",
    "sns.barplot(x='prevalentHyp', y='Heart-Att',data=risk_by_hp,orient='v',palette=colors)\n",
    "plt.ylabel(\"Heart Attack Rate\")\n",
    "plt.xlabel(\"prevalentHyp\")\n",
    "plt.title(\"Heart Attack Risk by prevalentHyp\")\n",
    "plt.show()"
   ]
  },
  {
   "cell_type": "code",
   "execution_count": 279,
   "id": "bfb745fd-ab9f-4f0b-903a-2d75fa8e1209",
   "metadata": {},
   "outputs": [
    {
     "data": {
      "text/plain": [
       "prevalentHyp\n",
       "0.0    2924\n",
       "1.0    1316\n",
       "Name: count, dtype: int64"
      ]
     },
     "execution_count": 279,
     "metadata": {},
     "output_type": "execute_result"
    }
   ],
   "source": [
    "df['prevalentHyp'].value_counts()"
   ]
  },
  {
   "cell_type": "code",
   "execution_count": 281,
   "id": "7f49ce56-00d3-4531-9472-6d6baa309601",
   "metadata": {},
   "outputs": [
    {
     "data": {
      "image/png": "[encoded data removed]",
      "text/plain": [
       "<Figure size 640x480 with 1 Axes>"
      ]
     },
     "metadata": {},
     "output_type": "display_data"
    }
   ],
   "source": [
    "risk_by_db = df.groupby('diabetes')['Heart-Att'].mean().reset_index()\n",
    "colors = ['yellow', 'green', 'red', 'brown'] \n",
    "\n",
    "sns.barplot(x='diabetes', y='Heart-Att',data=risk_by_db,orient='v',palette=colors)\n",
    "plt.ylabel(\"Heart Attack Rate\")\n",
    "plt.xlabel(\"diabetes\")\n",
    "plt.title(\"Heart Attack Risk by diabetes\")\n",
    "plt.show()"
   ]
  },
  {
   "cell_type": "code",
   "execution_count": 282,
   "id": "36173b80-23c5-4dfd-9032-5b06acaca395",
   "metadata": {},
   "outputs": [
    {
     "data": {
      "text/plain": [
       "diabetes\n",
       "0.0    4131\n",
       "1.0     109\n",
       "Name: count, dtype: int64"
      ]
     },
     "execution_count": 282,
     "metadata": {},
     "output_type": "execute_result"
    }
   ],
   "source": [
    "df['diabetes'].value_counts()"
   ]
  },
  {
   "cell_type": "code",
   "execution_count": 288,
   "id": "56621841-ec15-482d-bea6-b260a13758b7",
   "metadata": {},
   "outputs": [
    {
     "data": {
      "text/plain": [
       "array([4., 2., 1., 3.])"
      ]
     },
     "execution_count": 288,
     "metadata": {},
     "output_type": "execute_result"
    }
   ],
   "source": [
    "df['education'].unique()"
   ]
  },
  {
   "cell_type": "code",
   "execution_count": 287,
   "id": "425c782d-d724-42c6-8a80-cc5fd3f10316",
   "metadata": {},
   "outputs": [],
   "source": [
    "edu_median = df[df['education'].apply(lambda x: str(x).replace('.', '', 1).isdigit())]['education'].astype(float).median()\n",
    "\n",
    "\n",
    "df['education'] = df['education'].apply(lambda x: edu_median if 'bound method' in str(x) else float(x))"
   ]
  },
  {
   "cell_type": "code",
   "execution_count": 290,
   "id": "981e69ce-0b61-4f9c-837b-b6221458cb30",
   "metadata": {},
   "outputs": [],
   "source": [
    "df['education_new']=df['education'].replace({1.0:3,4.0:2.0,3.0:1,2.0:0})"
   ]
  },
  {
   "cell_type": "code",
   "execution_count": 292,
   "id": "fcd7d827-ae11-4a12-9627-91d4105b70d5",
   "metadata": {},
   "outputs": [
    {
     "data": {
      "text/plain": [
       "education_new\n",
       "3.0    1734\n",
       "0.0    1345\n",
       "1.0     688\n",
       "2.0     473\n",
       "Name: count, dtype: int64"
      ]
     },
     "execution_count": 292,
     "metadata": {},
     "output_type": "execute_result"
    }
   ],
   "source": [
    "df['education_new'].value_counts()"
   ]
  },
  {
   "cell_type": "code",
   "execution_count": 293,
   "id": "04a48c0b-97bc-4b1a-8e37-3c0b652632d4",
   "metadata": {},
   "outputs": [
    {
     "data": {
      "image/png": "[encoded data removed]",
      "text/plain": [
       "<Figure size 640x480 with 1 Axes>"
      ]
     },
     "metadata": {},
     "output_type": "display_data"
    }
   ],
   "source": [
    "risk_by_db = df.groupby('education_new')['Heart-Att'].mean().reset_index()\n",
    "colors = ['yellow', 'green', 'red', 'brown'] \n",
    "\n",
    "sns.barplot(x='education_new', y='Heart-Att',data=risk_by_db,orient='v',palette=colors)\n",
    "plt.ylabel(\"Heart Attack Rate\")\n",
    "plt.xlabel(\"diabetes\")\n",
    "plt.title(\"Heart Attack Risk by diabetes\")\n",
    "plt.show()"
   ]
  },
  {
   "cell_type": "code",
   "execution_count": 294,
   "id": "b96b9449-2c43-499f-a321-901d1ab2a5ac",
   "metadata": {},
   "outputs": [
    {
     "name": "stdout",
     "output_type": "stream",
     "text": [
      "<class 'pandas.core.frame.DataFrame'>\n",
      "RangeIndex: 4240 entries, 0 to 4239\n",
      "Data columns (total 26 columns):\n",
      " #   Column               Non-Null Count  Dtype   \n",
      "---  ------               --------------  -----   \n",
      " 0   Gender               4240 non-null   object  \n",
      " 1   age                  4240 non-null   float64 \n",
      " 2   education            4240 non-null   float64 \n",
      " 3   cigsPerDay           4240 non-null   float64 \n",
      " 4   BP Meds              4240 non-null   float64 \n",
      " 5   prevalentStroke      4240 non-null   float64 \n",
      " 6   prevalentHyp         4240 non-null   float64 \n",
      " 7   diabetes             4240 non-null   float64 \n",
      " 8   tot cholesterol      4240 non-null   float64 \n",
      " 9   Systolic BP          4240 non-null   float64 \n",
      " 10  Diastolic BP         4240 non-null   float64 \n",
      " 11  BMI                  4240 non-null   float64 \n",
      " 12  heartRate            4240 non-null   float64 \n",
      " 13  glucose              4240 non-null   float64 \n",
      " 14  Heart-Att            4240 non-null   int64   \n",
      " 15  age_group            4240 non-null   category\n",
      " 16  high_risk_age_group  4240 non-null   int64   \n",
      " 17  bmi_risk             4240 non-null   int64   \n",
      " 18  smoking_riskkk       4240 non-null   int64   \n",
      " 19  cholesterol_risk     4240 non-null   int64   \n",
      " 20  gender_risk          4240 non-null   int64   \n",
      " 21  Heartrate_risk       4240 non-null   int64   \n",
      " 22  Diastolic_BP_risk    4240 non-null   int64   \n",
      " 23  Systolic_BP_risk     4240 non-null   int64   \n",
      " 24  Glucose_risk         4240 non-null   int64   \n",
      " 25  education_new        4240 non-null   float64 \n",
      "dtypes: category(1), float64(14), int64(10), object(1)\n",
      "memory usage: 832.6+ KB\n"
     ]
    }
   ],
   "source": [
    "df.info()"
   ]
  },
  {
   "cell_type": "code",
   "execution_count": 295,
   "id": "c1da6432-b317-4342-977f-4c0a875dc74c",
   "metadata": {},
   "outputs": [],
   "source": [
    "dff=df[['BP Meds','prevalentStroke','prevalentHyp','diabetes','high_risk_age_group',\n",
    "'bmi_risk','smoking_riskkk','cholesterol_risk','gender_risk','Heartrate_risk','Diastolic_BP_risk','Systolic_BP_risk',\n",
    "'Glucose_risk','education_new','Heart-Att']]"
   ]
  },
  {
   "cell_type": "code",
   "execution_count": 296,
   "id": "b586cbe8-7d90-4a37-8022-36842a62436f",
   "metadata": {},
   "outputs": [
    {
     "name": "stdout",
     "output_type": "stream",
     "text": [
      "<class 'pandas.core.frame.DataFrame'>\n",
      "RangeIndex: 4240 entries, 0 to 4239\n",
      "Data columns (total 15 columns):\n",
      " #   Column               Non-Null Count  Dtype  \n",
      "---  ------               --------------  -----  \n",
      " 0   BP Meds              4240 non-null   float64\n",
      " 1   prevalentStroke      4240 non-null   float64\n",
      " 2   prevalentHyp         4240 non-null   float64\n",
      " 3   diabetes             4240 non-null   float64\n",
      " 4   high_risk_age_group  4240 non-null   int64  \n",
      " 5   bmi_risk             4240 non-null   int64  \n",
      " 6   smoking_riskkk       4240 non-null   int64  \n",
      " 7   cholesterol_risk     4240 non-null   int64  \n",
      " 8   gender_risk          4240 non-null   int64  \n",
      " 9   Heartrate_risk       4240 non-null   int64  \n",
      " 10  Diastolic_BP_risk    4240 non-null   int64  \n",
      " 11  Systolic_BP_risk     4240 non-null   int64  \n",
      " 12  Glucose_risk         4240 non-null   int64  \n",
      " 13  education_new        4240 non-null   float64\n",
      " 14  Heart-Att            4240 non-null   int64  \n",
      "dtypes: float64(5), int64(10)\n",
      "memory usage: 497.0 KB\n"
     ]
    }
   ],
   "source": [
    "dff.info()"
   ]
  },
  {
   "cell_type": "code",
   "execution_count": 297,
   "id": "07498d96-b14d-4284-afca-894a73a6e2f4",
   "metadata": {},
   "outputs": [],
   "source": [
    "dff.to_csv(\"C:/Users/tinup/machine Learning/Heart2.csv\", index=False)"
   ]
  },
  {
   "cell_type": "code",
   "execution_count": null,
   "id": "f1ac6cbe-a68d-4892-bb4f-d314a7cf4a42",
   "metadata": {},
   "outputs": [],
   "source": []
  }
 ],
 "metadata": {
  "kernelspec": {
   "display_name": "Python 3 (ipykernel)",
   "language": "python",
   "name": "python3"
  },
  "language_info": {
   "codemirror_mode": {
    "name": "ipython",
    "version": 3
   },
   "file_extension": ".py",
   "mimetype": "text/x-python",
   "name": "python",
   "nbconvert_exporter": "python",
   "pygments_lexer": "ipython3",
   "version": "3.13.2"
  }
 },
 "nbformat": 4,
 "nbformat_minor": 5
}
